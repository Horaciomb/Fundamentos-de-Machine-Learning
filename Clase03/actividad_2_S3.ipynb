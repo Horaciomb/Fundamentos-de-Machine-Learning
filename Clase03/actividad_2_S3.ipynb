{
    "cells": [
        {
            "cell_type": "markdown",
            "metadata": {},
            "source": [
                "# <img style=\"float: left; padding-right: 20px; height: 70px\" src=\"https://i.imgur.com/cMzxwTN.jpg\"> Fundamentos de Machine Learning\n",
                "## Actividad 2, Sesion 3\n",
                "**Universidad Privada Boliviana**<br/>\n",
                "**Diplomado en Machine Learning y Ciencia de Datos**<br/>\n"
            ]
        },
        {
            "cell_type": "markdown",
            "metadata": {},
            "source": [
                "El objetivo de este ejercicio es visualizar el árbol de decisión que se crea al realizar la clasificación o regresión del árbol de decisión. \n",
                "\n",
                "## Descripción del conjunto de datos\n",
                "\n",
                "Estamos tratando de predecir el ganador de las elecciones presidenciales de 2016 (Trump vs. Clinton) en cada condado de los EE. UU. Para hacer esto, consideraremos varios predictores que incluyen \"minoría\": el porcentaje de residentes que son minorías y \"licenciatura\": el porcentaje de adultos residentes con una licenciatura (o superior).\n",
                "\n",
                "## Instrucciones\n",
                "\n",
                "- Lea el archivo de datos `county_election_train.csv` \n",
                "    \n",
                "- Cree la variable de respuesta basada en las columnas `trump` y `clinton`.\n",
                "    \n",
                "- Inicializar un clasificador de árbol de decisión de profundidad 3 y ajustarlo a los datos de entrenamiento.\n",
                "    \n",
                "- Visualizar el Árbol de Decisión.\n",
                "    \n",
                "\n"
            ]
        },
        {
            "cell_type": "code",
            "execution_count": null,
            "metadata": {
                "scrolled": true
            },
            "outputs": [],
            "source": [
                "\n",
                "import numpy as np\n",
                "import pandas as pd\n",
                "import sklearn as sk\n",
                "import seaborn as sns\n",
                "from sklearn import tree\n",
                "import matplotlib.pyplot as plt\n",
                "from sklearn.tree import DecisionTreeClassifier\n",
                "from sklearn.model_selection import cross_val_score\n",
                "\n",
                "pd.set_option('display.width', 100)\n",
                "pd.set_option('display.max_columns', 20)\n",
                "plt.rcParams[\"figure.figsize\"] = (12,8)\n"
            ]
        },
        {
            "cell_type": "code",
            "execution_count": null,
            "metadata": {},
            "outputs": [],
            "source": [
                "\n",
                "elect_train = pd.read_csv(\"\")\n",
                "\n",
                "elect_test = pd.read_csv(\"\")\n",
                "\n",
                "\n",
                "elect_train.head()\n"
            ]
        },
        {
            "cell_type": "code",
            "execution_count": null,
            "metadata": {},
            "outputs": [],
            "source": [
                "\n",
                "\n",
                "# Creating the response variable\n",
                "\n",
                "# Establecer todas las filas en los datos del train\n",
                "# donde el valor de \"trump\" es más que \"clinton\" como 1\n",
                "y_train = ___\n",
                "\n",
                "# Establecer todas las filas en los datos de test \n",
                "# donde el valor de \"trump\" es más que \"clinton\" como 1\n",
                "y_test = ___\n"
            ]
        },
        {
            "cell_type": "code",
            "execution_count": null,
            "metadata": {},
            "outputs": [],
            "source": [
                "\n",
                "plt.scatter(____, ____,marker=\".\",color=\"blue\",label=\"Trump\", s=50, alpha=0.4)\n",
                "plt.scatter(____, ____,,marker=\".\",color=\"green\",label=\"Clinton\", s=50, alpha=0.4)\n",
                "\n",
                "plt.xlabel(\"minority\")\n",
                "plt.ylabel(\"bachelor\")\n",
                "plt.legend()\n",
                "plt.show();\n"
            ]
        },
        {
            "cell_type": "code",
            "execution_count": null,
            "metadata": {},
            "outputs": [],
            "source": [
                "# Inicializar un clasificador Árbol de decisión de profundidad 3 y elegir\n",
                "# criterio de división para ser la entropía\n",
                "dtree = ____\n",
                "\n",
                "# Ajustar el clasificador en los datos del tren\n",
                "# pero solo use la columna minoritaria como variable predictora\n",
                "dtree.fit(____)\n"
            ]
        },
        {
            "cell_type": "code",
            "execution_count": null,
            "metadata": {},
            "outputs": [],
            "source": [
                "\n",
                "plt.figure(figsize=(30,20))\n",
                "\n",
                "# Grafique el árbol de decisión entrenado anteriormente con parámetros completados como Verdadero\n",
                "tree.plot_tree(___)\n",
                "\n",
                "\n",
                "plt.show();\n"
            ]
        }
    ],
    "metadata": {
        "kernelspec": {
            "display_name": "Python 3.10.4 64-bit",
            "language": "python",
            "name": "python3"
        },
        "language_info": {
            "name": "python",
            "version": "3.10.4"
        },
        "vscode": {
            "interpreter": {
                "hash": "f66e3edf856e3e4a3652763ddb6c2ab1c25665e5b9e1fed087bb1a040433f3bb"
            }
        }
    },
    "nbformat": 4,
    "nbformat_minor": 4
}
