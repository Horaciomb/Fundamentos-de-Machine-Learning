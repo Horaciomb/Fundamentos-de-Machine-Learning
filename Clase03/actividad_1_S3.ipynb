{
    "cells": [
        {
            "cell_type": "markdown",
            "metadata": {},
            "source": [
                "# <img style=\"float: left; padding-right: 20px; height: 70px\" src=\"https://i.imgur.com/cMzxwTN.jpg\"> Fundamentos de Machine Learning\n",
                "## Actividad I, Sesion 3\n",
                "\n",
                "**Universidad Privada Boliviana**<br/>\n",
                "**Diplomado en Machine Learning y Ciencia de Datos**<br/>\n"
            ]
        },
        {
            "cell_type": "code",
            "execution_count": null,
            "metadata": {
                "scrolled": true
            },
            "outputs": [],
            "source": [
                "# Import necessary libraries\n",
                "import numpy as np\n",
                "import pandas as pd\n",
                "import sklearn as sk\n",
                "import seaborn as sns\n",
                "from sklearn import tree\n",
                "import matplotlib.pyplot as plt\n",
                "from helper import plot_boundary\n",
                "from prettytable import PrettyTable\n",
                "from sklearn.tree import DecisionTreeClassifier\n",
                "from sklearn.model_selection import cross_val_score\n",
                "\n",
                "pd.set_option('display.width', 100)\n",
                "pd.set_option('display.max_columns', 20)\n",
                "plt.rcParams[\"figure.figsize\"] = (8,6)\n"
            ]
        },
        {
            "cell_type": "code",
            "execution_count": null,
            "metadata": {},
            "outputs": [],
            "source": [
                "# Lea el archivo de datos \"election_train.csv\" como un marco de datos de Pandas\n",
                "elect_train = \n",
                "\n",
                "# Read the data file \"election_test.csv\" as a Pandas dataframe\n",
                "elect_test = \n",
                "\n",
                "# Eche un vistazo rápido a los datos de entrenamiento \n",
                "\n",
                "elect_train.head()\n"
            ]
        },
        {
            "cell_type": "code",
            "execution_count": null,
            "metadata": {},
            "outputs": [],
            "source": [
                "# Generar una columna llamada won\n",
                "# won = 1, si Trump ha sido elegido en un determinado condado\n",
                "# won = 0, si Clinton ha sido elegida en un determinado condado\n",
                "\n",
                "\n",
                "# Establecer las columnas minoritario y profesionales  como predictores de datos de train\n",
                "X_train = ___\n",
                "\n",
                "#Establecer las columnas minoritario y profesionales como predictores de datos de test\n",
                "X_test = ___\n",
                "\n",
                "# Establezca la columna \"won\" como la variable de respuesta de entrenamiento \n",
                "\n",
                "y_train = ___\n",
                "\n",
                "# Establezca la columna \"won\" como la variable de respuesta de entrenamiento \n",
                "\n",
                "y_test = ___\n"
            ]
        },
        {
            "cell_type": "code",
            "execution_count": null,
            "metadata": {},
            "outputs": [],
            "source": [
                "# Inicialice un clasificador de árbol de decisión con una profundidad de 2\n",
                "dt1 = ___\n",
                "\n",
                "# Ajustar el clasificador en el train data\n",
                "___\n",
                "\n",
                "# Inicialice un clasificador de árbol de decisión con una profundidad de 10\n",
                "dt2 = ___\n",
                "\n",
                "# Ajustar el clasificador en el train data\n",
                "___\n",
                "\n",
                "\n"
            ]
        },
        {
            "cell_type": "code",
            "execution_count": null,
            "metadata": {},
            "outputs": [],
            "source": [
                "# Llame a la función plot_boundary desde el archivo helper.py\n",
                "# para obtener los límites de decisión de ambos clasificadores\n",
                "\n",
                "plot_boundary(...)\n"
            ]
        },
        {
            "cell_type": "code",
            "execution_count": null,
            "metadata": {},
            "outputs": [],
            "source": [
                "# # Conjunto de columnas predictoras\n",
                "pred_cols = ['minority', 'density','hispanic','obesity','female','income','bachelor','inactivity']\n",
                "\n",
                "# Use las columnas de arriba como las características para\n",
                "# obtener el conjunto predictor del data train\n",
                "X_train = ___\n",
                "\n",
                "# Use las columnas de arriba como las características para\n",
                "# obtener el conjunto predictor del data test\n",
                "X_test = ___\n",
                "\n",
                "# # Inicialice un clasificador de árbol de decisión con una profundidad de 2\n",
                "dt1 = ___\n",
                "\n",
                "# Inicialice un clasificador de árbol de decisión con una profundidad de 10\n",
                "dt2 = ___\n",
                "\n",
                "# Inicialice un clasificador de árbol de decisiones con una profundidad de 15\n",
                "dt3 = ___\n",
                "\n",
                "# Ajustar todo el clasificador en los datos de entrenamiento \n",
                ".\n",
                "___\n",
                "___\n",
                "___\n"
            ]
        },
        {
            "cell_type": "code",
            "execution_count": null,
            "metadata": {},
            "outputs": [],
            "source": [
                "\n",
                "# Calcule precisión del train y test  para el primer clasificador de árboles de decisión de profundidad 2\n",
                "dt1_train_acc = ___\n",
                "dt1_test_acc = ___\n",
                "\n",
                "# Calcule precisión del train y test  para el segundo clasificador de árboles de decisión de profundidad 10\n",
                "dt2_train_acc = ___\n",
                "dt2_test_acc = ___\n",
                "\n",
                "# Calcule precisión del train y test para el tercer clasificador de árboles de decisión de profundidad 15\n",
                "dt3_train_acc = ___\n",
                "dt3_test_acc = ___\n"
            ]
        },
        {
            "cell_type": "code",
            "execution_count": null,
            "metadata": {},
            "outputs": [],
            "source": [
                "\n",
                "pt = PrettyTable()\n",
                "pt.field_names = ['Max Depth', 'Number of Features', 'Train Accuracy', 'Test Accuracy']\n",
                "pt.add_row([2, len(pred_cols), round(dt1_train_acc, 4), round(dt1_test_acc,4)])\n",
                "pt.add_row([10, len(pred_cols), round(dt2_train_acc,4), round(dt2_test_acc,4)])\n",
                "pt.add_row([15, len(pred_cols), round(dt3_train_acc,4), round(dt3_test_acc,4)])\n",
                "print(pt)\n"
            ]
        },
        {
            "cell_type": "markdown",
            "metadata": {},
            "source": [
                "### Actividad 3.1\n",
                "Cambiar las columnas predictoras a :\n",
                "- ` 'minority', 'obesity','female','income','bachelor'`\n",
                "\n",
                "Encontrar la precision para una profundidad de arbol de 10."
            ]
        },
        {
            "cell_type": "code",
            "execution_count": 1,
            "metadata": {},
            "outputs": [],
            "source": [
                "## el codigo aca"
            ]
        },
        {
            "cell_type": "markdown",
            "metadata": {},
            "source": [
                "### Actividad 3.2\n",
                "\n",
                "### Graficar el train y test accuracy vs Max Depth\n",
                "\n",
                "- Para las mismas columnas predictoras en el punto 1. Graficar la precision del test y train set para una profundidad variable en el rango de `[2,20]`\n",
                "- Anotar sus observaciones"
            ]
        },
        {
            "cell_type": "code",
            "execution_count": null,
            "metadata": {},
            "outputs": [],
            "source": [
                "# Graficar el train y test accuracy vs Max Depth\n"
            ]
        }
    ],
    "metadata": {
        "kernelspec": {
            "display_name": "Python 3",
            "language": "python",
            "name": "python3"
        },
        "language_info": {
            "codemirror_mode": {
                "name": "ipython",
                "version": 3
            },
            "file_extension": ".py",
            "mimetype": "text/x-python",
            "name": "python",
            "nbconvert_exporter": "python",
            "pygments_lexer": "ipython3",
            "version": "3.12.7"
        }
    },
    "nbformat": 4,
    "nbformat_minor": 4
}
