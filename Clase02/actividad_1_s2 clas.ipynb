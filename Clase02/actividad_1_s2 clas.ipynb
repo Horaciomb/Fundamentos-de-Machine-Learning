{
    "cells": [
        {
            "cell_type": "markdown",
            "metadata": {},
            "source": [
                "# <img style=\"float: left; padding-right: 20px; height: 70px\" src=\"https://i.imgur.com/cMzxwTN.jpg\"> Fundamentos de Machine Learning\n",
                "## Sesion 2, Actividad I\n",
                "**Universidad Privada Boliviana**<br/>\n",
                "**Diplomado en Machine Learning y Ciencia de Datos**<br/>\n",
                "\n",
                "\n",
                "\n",
                "<hr>\n"
            ]
        },
        {
            "cell_type": "code",
            "execution_count": 6,
            "metadata": {},
            "outputs": [],
            "source": [
                "# Import necessary libraries\n",
                "import numpy as np\n",
                "import pandas as pd\n",
                "import matplotlib.pyplot as plt\n",
                "from sklearn.metrics import mean_squared_error\n",
                "from sklearn.linear_model import LinearRegression\n",
                "from sklearn.model_selection import train_test_split\n",
                "from sklearn.preprocessing import PolynomialFeatures\n",
                "%matplotlib inline\n"
            ]
        },
        {
            "attachments": {},
            "cell_type": "markdown",
            "metadata": {},
            "source": [
                "## 3. Optimizacion del grado del polinomio. \n",
                "\n",
                "### 3.1 Leer el dataset"
            ]
        },
        {
            "cell_type": "code",
            "execution_count": 12,
            "metadata": {},
            "outputs": [
                {
                    "data": {
                        "application/vnd.microsoft.datawrangler.viewer.v0+json": {
                            "columns": [
                                {
                                    "name": "index",
                                    "rawType": "int64",
                                    "type": "integer"
                                },
                                {
                                    "name": "x1",
                                    "rawType": "float64",
                                    "type": "float"
                                },
                                {
                                    "name": "y1",
                                    "rawType": "float64",
                                    "type": "float"
                                }
                            ],
                            "conversionMethod": "pd.DataFrame",
                            "ref": "c43ad447-0906-4c8c-a1f5-fdafe15c3340",
                            "rows": [
                                [
                                    "0",
                                    "0.265959809",
                                    "1.624971832"
                                ],
                                [
                                    "1",
                                    "0.516804535",
                                    "2.734012228"
                                ],
                                [
                                    "2",
                                    "0.658542082",
                                    "4.628908017"
                                ],
                                [
                                    "3",
                                    "1.678051942",
                                    "5.186454785"
                                ],
                                [
                                    "4",
                                    "2.112463381",
                                    "8.395088239"
                                ],
                                [
                                    "5",
                                    "2.757320104",
                                    "8.654015386"
                                ],
                                [
                                    "6",
                                    "3.20084415",
                                    "13.37342442"
                                ],
                                [
                                    "7",
                                    "3.81525424",
                                    "12.02956169"
                                ],
                                [
                                    "8",
                                    "4.174083681",
                                    "14.98275513"
                                ],
                                [
                                    "9",
                                    "5.00518958",
                                    "13.47636068"
                                ],
                                [
                                    "10",
                                    "5.475080969",
                                    "15.16377196"
                                ],
                                [
                                    "11",
                                    "6.645804171",
                                    "15.20157118"
                                ],
                                [
                                    "12",
                                    "6.972575002",
                                    "12.38580868"
                                ],
                                [
                                    "13",
                                    "7.453700886",
                                    "13.76701006"
                                ],
                                [
                                    "14",
                                    "8.176705612",
                                    "11.68874363"
                                ],
                                [
                                    "15",
                                    "8.374575334",
                                    "9.410935786"
                                ],
                                [
                                    "16",
                                    "8.767002495",
                                    "7.3778113"
                                ],
                                [
                                    "17",
                                    "9.292670273",
                                    "6.313343718"
                                ],
                                [
                                    "18",
                                    "9.405113916",
                                    "4.189989621"
                                ],
                                [
                                    "19",
                                    "9.740585148",
                                    "2.70751165"
                                ],
                                [
                                    "20",
                                    "9.909917937",
                                    "1.141627011"
                                ]
                            ],
                            "shape": {
                                "columns": 2,
                                "rows": 21
                            }
                        },
                        "text/html": [
                            "<div>\n",
                            "<style scoped>\n",
                            "    .dataframe tbody tr th:only-of-type {\n",
                            "        vertical-align: middle;\n",
                            "    }\n",
                            "\n",
                            "    .dataframe tbody tr th {\n",
                            "        vertical-align: top;\n",
                            "    }\n",
                            "\n",
                            "    .dataframe thead th {\n",
                            "        text-align: right;\n",
                            "    }\n",
                            "</style>\n",
                            "<table border=\"1\" class=\"dataframe\">\n",
                            "  <thead>\n",
                            "    <tr style=\"text-align: right;\">\n",
                            "      <th></th>\n",
                            "      <th>x1</th>\n",
                            "      <th>y1</th>\n",
                            "    </tr>\n",
                            "  </thead>\n",
                            "  <tbody>\n",
                            "    <tr>\n",
                            "      <th>0</th>\n",
                            "      <td>0.265960</td>\n",
                            "      <td>1.624972</td>\n",
                            "    </tr>\n",
                            "    <tr>\n",
                            "      <th>1</th>\n",
                            "      <td>0.516805</td>\n",
                            "      <td>2.734012</td>\n",
                            "    </tr>\n",
                            "    <tr>\n",
                            "      <th>2</th>\n",
                            "      <td>0.658542</td>\n",
                            "      <td>4.628908</td>\n",
                            "    </tr>\n",
                            "    <tr>\n",
                            "      <th>3</th>\n",
                            "      <td>1.678052</td>\n",
                            "      <td>5.186455</td>\n",
                            "    </tr>\n",
                            "    <tr>\n",
                            "      <th>4</th>\n",
                            "      <td>2.112463</td>\n",
                            "      <td>8.395088</td>\n",
                            "    </tr>\n",
                            "    <tr>\n",
                            "      <th>5</th>\n",
                            "      <td>2.757320</td>\n",
                            "      <td>8.654015</td>\n",
                            "    </tr>\n",
                            "    <tr>\n",
                            "      <th>6</th>\n",
                            "      <td>3.200844</td>\n",
                            "      <td>13.373424</td>\n",
                            "    </tr>\n",
                            "    <tr>\n",
                            "      <th>7</th>\n",
                            "      <td>3.815254</td>\n",
                            "      <td>12.029562</td>\n",
                            "    </tr>\n",
                            "    <tr>\n",
                            "      <th>8</th>\n",
                            "      <td>4.174084</td>\n",
                            "      <td>14.982755</td>\n",
                            "    </tr>\n",
                            "    <tr>\n",
                            "      <th>9</th>\n",
                            "      <td>5.005190</td>\n",
                            "      <td>13.476361</td>\n",
                            "    </tr>\n",
                            "    <tr>\n",
                            "      <th>10</th>\n",
                            "      <td>5.475081</td>\n",
                            "      <td>15.163772</td>\n",
                            "    </tr>\n",
                            "    <tr>\n",
                            "      <th>11</th>\n",
                            "      <td>6.645804</td>\n",
                            "      <td>15.201571</td>\n",
                            "    </tr>\n",
                            "    <tr>\n",
                            "      <th>12</th>\n",
                            "      <td>6.972575</td>\n",
                            "      <td>12.385809</td>\n",
                            "    </tr>\n",
                            "    <tr>\n",
                            "      <th>13</th>\n",
                            "      <td>7.453701</td>\n",
                            "      <td>13.767010</td>\n",
                            "    </tr>\n",
                            "    <tr>\n",
                            "      <th>14</th>\n",
                            "      <td>8.176706</td>\n",
                            "      <td>11.688744</td>\n",
                            "    </tr>\n",
                            "    <tr>\n",
                            "      <th>15</th>\n",
                            "      <td>8.374575</td>\n",
                            "      <td>9.410936</td>\n",
                            "    </tr>\n",
                            "    <tr>\n",
                            "      <th>16</th>\n",
                            "      <td>8.767002</td>\n",
                            "      <td>7.377811</td>\n",
                            "    </tr>\n",
                            "    <tr>\n",
                            "      <th>17</th>\n",
                            "      <td>9.292670</td>\n",
                            "      <td>6.313344</td>\n",
                            "    </tr>\n",
                            "    <tr>\n",
                            "      <th>18</th>\n",
                            "      <td>9.405114</td>\n",
                            "      <td>4.189990</td>\n",
                            "    </tr>\n",
                            "    <tr>\n",
                            "      <th>19</th>\n",
                            "      <td>9.740585</td>\n",
                            "      <td>2.707512</td>\n",
                            "    </tr>\n",
                            "    <tr>\n",
                            "      <th>20</th>\n",
                            "      <td>9.909918</td>\n",
                            "      <td>1.141627</td>\n",
                            "    </tr>\n",
                            "  </tbody>\n",
                            "</table>\n",
                            "</div>"
                        ],
                        "text/plain": [
                            "          x1         y1\n",
                            "0   0.265960   1.624972\n",
                            "1   0.516805   2.734012\n",
                            "2   0.658542   4.628908\n",
                            "3   1.678052   5.186455\n",
                            "4   2.112463   8.395088\n",
                            "5   2.757320   8.654015\n",
                            "6   3.200844  13.373424\n",
                            "7   3.815254  12.029562\n",
                            "8   4.174084  14.982755\n",
                            "9   5.005190  13.476361\n",
                            "10  5.475081  15.163772\n",
                            "11  6.645804  15.201571\n",
                            "12  6.972575  12.385809\n",
                            "13  7.453701  13.767010\n",
                            "14  8.176706  11.688744\n",
                            "15  8.374575   9.410936\n",
                            "16  8.767002   7.377811\n",
                            "17  9.292670   6.313344\n",
                            "18  9.405114   4.189990\n",
                            "19  9.740585   2.707512\n",
                            "20  9.909918   1.141627"
                        ]
                    },
                    "execution_count": 12,
                    "metadata": {},
                    "output_type": "execute_result"
                }
            ],
            "source": [
                "# Leer el archivo \"dataset1.csv\" como  Pandas dataframe\n",
                "df = pd.read_csv('dataset1.csv')\n",
                "\n",
                "# Eche un vistazo rápido al conjunto de datos\n",
                "\n",
                "df\n"
            ]
        },
        {
            "cell_type": "code",
            "execution_count": 14,
            "metadata": {},
            "outputs": [
                {
                    "data": {
                        "image/png": "[encoded data removed]",
                        "text/plain": [
                            "<Figure size 800x600 with 1 Axes>"
                        ]
                    },
                    "metadata": {},
                    "output_type": "display_data"
                }
            ],
            "source": [
                "## Graficar los datos\n",
                "plt.figure(figsize=(8, 6))\n",
                "plt.scatter(df['x1'], df['y1'], color='blue', label='Datos')\n",
                "plt.title('Gráfico de dispersión de los datos')\n",
                "plt.xlabel('x')\n",
                "plt.ylabel('y')\n",
                "plt.legend()\n",
                "plt.grid(True)\n",
                "plt.show()"
            ]
        },
        {
            "cell_type": "markdown",
            "metadata": {},
            "source": [
                "### ⏸ Según el gráfico anterior, ¿podria indicar el grado optimo del polinomio para una regresion lineal polinomial?"
            ]
        },
        {
            "cell_type": "markdown",
            "metadata": {},
            "source": [
                "Respuesta: `Con una de Grado 2`"
            ]
        },
        {
            "cell_type": "markdown",
            "metadata": {},
            "source": [
                "### 3.2 Obtener las variables de entrada y salida"
            ]
        },
        {
            "cell_type": "code",
            "execution_count": 18,
            "metadata": {},
            "outputs": [],
            "source": [
                "# Asigne los valores de las columnas x e y a la\n",
                "# variables predictoras y de respuesta\n",
                "\n",
                "# Variable de predictora\n",
                "# Estos es lista de listas\n",
                "x=df[['x1']].values\n",
                "# Variable de respuesta\n",
                "# Estos es una lista \n",
                "y=df['y1'].values\n",
                "\n"
            ]
        },
        {
            "cell_type": "code",
            "execution_count": null,
            "metadata": {},
            "outputs": [],
            "source": []
        },
        {
            "attachments": {},
            "cell_type": "markdown",
            "metadata": {},
            "source": [
                "### 3.3 Train-validation split\n",
                "\n",
                "Dividir los datos de entrada en `Train/Validation` sets"
            ]
        },
        {
            "cell_type": "code",
            "execution_count": 29,
            "metadata": {
                "collapsed": true
            },
            "outputs": [],
            "source": [
                "# Dividir el conjunto de datos en conjuntos de entrenamiento y validación con un conjunto de entrenamiento del 75 %\n",
                "# Establecer estado_aleatorio=1\n",
                "x_train, x_val, y_train, y_val = train_test_split(x, y, test_size=0.25, random_state=1)\n",
                "# Esto es plantar la semilla"
            ]
        },
        {
            "cell_type": "code",
            "execution_count": 28,
            "metadata": {},
            "outputs": [
                {
                    "data": {
                        "image/png": "[encoded data removed]",
                        "text/plain": [
                            "<Figure size 640x480 with 1 Axes>"
                        ]
                    },
                    "metadata": {},
                    "output_type": "display_data"
                }
            ],
            "source": [
                "# graficar los sets de train y validacion\n",
                "\n",
                "plt.plot(x_train, y_train,'o', label='Training set')\n",
                "plt.plot(x_val, y_val,'o', label='valittio set')\n",
                "plt.xlabel('x')\n",
                "plt.ylabel('y')\n",
                "plt.title('y1 vs x1')\n",
                "\n",
                "plt.legend()\n",
                "plt.grid(True)\n",
                "plt.show()"
            ]
        },
        {
            "cell_type": "markdown",
            "metadata": {},
            "source": [
                "Cambiar el estado aleatorio y anotar sus observaciones respecto a la eleccion de los  datos en cada set."
            ]
        },
        {
            "cell_type": "markdown",
            "metadata": {},
            "source": []
        },
        {
            "attachments": {},
            "cell_type": "markdown",
            "metadata": {},
            "source": [
                "### 3.4 Cálculo del train & validation error en términos de MSE"
            ]
        },
        {
            "cell_type": "code",
            "execution_count": 32,
            "metadata": {},
            "outputs": [
                {
                    "name": "stdout",
                    "output_type": "stream",
                    "text": [
                        "[8.83202917]\n",
                        "[8.1511312  0.14186153]\n",
                        "[-0.2227622   5.69334609 -0.54991252]\n",
                        "[ 1.1016222   3.74880004 -0.04211672 -0.03378589]\n",
                        "[ 1.13688493e+00  3.66239180e+00 -2.37851167e-03 -3.98948060e-02\n",
                        "  2.98245429e-04]\n",
                        "[ 7.15819244e-01  4.93643925e+00 -8.49285391e-01  1.78480322e-01\n",
                        " -2.37238731e-02  9.43996703e-04]\n",
                        "[ 2.38817180e-01  6.62267089e+00 -2.36805721e+00  7.47938102e-01\n",
                        " -1.25682474e-01  9.59899545e-03 -2.80017354e-04]\n",
                        "[-1.61854169e+00  1.48664862e+01 -1.32697167e+01  6.88498396e+00\n",
                        " -1.84732575e+00  2.62197106e-01 -1.88049602e-02  5.35511460e-04]\n",
                        "[-3.07164335e+00  2.28848437e+01 -2.72024239e+01  1.71356260e+01\n",
                        " -5.70280448e+00  1.06673603e+00 -1.13036666e-01  6.33120737e-03\n",
                        " -1.45614372e-04]\n",
                        "[ 4.40720764e-03  3.08221051e+00  1.36729712e+01 -1.92196301e+01\n",
                        "  1.12913028e+01 -3.52104448e+00  6.27435365e-01 -6.41520143e-02\n",
                        "  3.50257742e-03 -7.91602940e-05]\n",
                        "[ 5.83222876e+00 -3.70751421e+01  1.04779358e+02 -1.11995390e+02\n",
                        "  6.26943320e+01 -2.05843955e+01  4.17438628e+00 -5.29554599e-01\n",
                        "  4.09305251e-02 -1.76295580e-03  3.24441955e-05]\n",
                        "[ 2.13687614e+01 -1.50236141e+02  3.86548041e+02 -4.42562436e+02\n",
                        "  2.80888915e+02 -1.09446724e+02  2.75823704e+01 -4.59061236e+00\n",
                        "  5.01628225e-01 -3.46311938e-02  1.37000440e-03 -2.36674834e-05]\n",
                        "[ 1.29126707e+01 -7.44498425e+01  1.33570702e+02 -2.34177116e+01\n",
                        " -1.08133994e+02  1.10969133e+02 -5.29363725e+01  1.49488471e+01\n",
                        " -2.67703419e+00  3.07749830e-01 -2.20383611e-02  8.95659920e-04\n",
                        " -1.57856782e-05]\n",
                        "[ 2.17802940e+00 -6.58211962e+00  1.38205825e+01  1.10156098e+01\n",
                        " -1.12683035e+01 -1.21486192e+01  1.85894762e+01 -1.01219408e+01\n",
                        "  3.06297524e+00 -5.72086560e-01  6.76144893e-02 -4.93567998e-03\n",
                        "  2.03361065e-04 -3.62037950e-06]\n",
                        "[ 9.18808816e-01  2.62361957e+00  2.66941586e+00  1.65975569e+00\n",
                        " -2.95501577e-01 -1.89177548e+00 -6.09412998e-01  2.16811580e+00\n",
                        " -1.38946822e+00  4.54101690e-01 -8.86954164e-02  1.07874864e-02\n",
                        " -8.02907448e-04  3.35379984e-05 -6.03034690e-07]\n"
                    ]
                }
            ],
            "source": [
                "# Completar el siguiente codigo\n",
                "\n",
                "# Seleccionar el grado maximo a iterar\n",
                "maxdeg = 15\n",
                "training_error = []\n",
                "validation_error = []\n",
                "\n",
                "for d in range(maxdeg):\n",
                "    # calculo de los polynomial features\n",
                "    x_poly_train = PolynomialFeatures(degree=d).fit_transform(x_train)\n",
                "    x_poly_val   = PolynomialFeatures(degree=d).fit_transform(x_val)\n",
                "    # Inicializar el modelo de regresion sin utilizar el intercept\n",
                "    lreg = LinearRegression(fit_intercept=False)\n",
                "\n",
                "    # Ajustar el modelo en los datos de entrenamiento\n",
                "    lreg.fit(x_poly_train, y_train)\n",
                "    print(lreg.coef_)\n",
                "    # Utilizar el modelo entrenado para predecir en los datos transformados del train set\n",
                "    y_train_pred = lreg.predict(x_poly_train)\n",
                "    \n",
                "    # Utilizar el modelo entrenado para predecir en los datos transformados del validation set\n",
                "    y_val_pred   = lreg.predict(x_poly_val)\n",
                "\n",
                "    # Calcular el error en base a los datos en y_train_pred y y_val_pred\n",
                "    error_train = mean_squared_error(y_train, y_train_pred)\n",
                "    error_val   = mean_squared_error(y_val_pred,y_val)\n",
                "    # adicionar los errores calculados a la lista de training_error y validation_error\n",
                "    training_error.append(error_train)\n",
                "    validation_error.append(error_val)\n",
                "\n",
                "\n",
                "\n",
                "    "
            ]
        },
        {
            "attachments": {},
            "cell_type": "markdown",
            "metadata": {},
            "source": [
                "### 3.5 Encontrar el modelo optimo"
            ]
        },
        {
            "cell_type": "code",
            "execution_count": 33,
            "metadata": {},
            "outputs": [
                {
                    "name": "stdout",
                    "output_type": "stream",
                    "text": [
                        "[24.90581668621805, 24.700761882334966, 1.6265096930295693, 1.0801549178123129, 1.0800018672150822, 1.07050088422034, 1.0652389532839306, 0.9738815553945189, 0.9274232718381935, 0.8638252088943289, 0.8163349567051436, 0.7408802179076442, 0.6004941706148882, 0.5658493322545615, 0.5997810843524167]\n"
                    ]
                }
            ],
            "source": [
                "###\n",
                "print(training_error)"
            ]
        },
        {
            "attachments": {},
            "cell_type": "markdown",
            "metadata": {},
            "source": [
                "### 3.6 Graficar el error vs grado del polinomio"
            ]
        },
        {
            "cell_type": "code",
            "execution_count": 34,
            "metadata": {
                "collapsed": true
            },
            "outputs": [
                {
                    "name": "stdout",
                    "output_type": "stream",
                    "text": [
                        "[14.961572884232114, 15.467395037783389, 2.250715205970138, 1.1304824846656538, 1.123530916805718, 1.351126010504503, 1.3532575981865105, 1.4821028941013923, 0.9979661095976115, 1.6762824502747904, 3.0062773294081055, 4.581361740353905, 43.56456806201593, 174.30722502014632, 417.9034789272794]\n"
                    ]
                }
            ],
            "source": [
                "print(validation_error)"
            ]
        },
        {
            "cell_type": "code",
            "execution_count": 35,
            "metadata": {},
            "outputs": [
                {
                    "name": "stdout",
                    "output_type": "stream",
                    "text": [
                        "El error min  0.9979661095976115\n"
                    ]
                }
            ],
            "source": [
                "error_min_val=min(validation_error)\n",
                "print(\"El error min \", error_min_val)"
            ]
        },
        {
            "attachments": {},
            "cell_type": "markdown",
            "metadata": {},
            "source": [
                "⏸  Si ejecutas el ejercicio con un estado aleatorio de 0, ¿notas algún cambio? ¿A qué atribuirías este cambio?\"\"\""
            ]
        },
        {
            "cell_type": "code",
            "execution_count": 37,
            "metadata": {},
            "outputs": [
                {
                    "data": {
                        "image/png": "[encoded data removed]",
                        "text/plain": [
                            "<Figure size 640x480 with 1 Axes>"
                        ]
                    },
                    "metadata": {},
                    "output_type": "display_data"
                }
            ],
            "source": [
                "\n",
                "# Submit an answer choice as a string below \n",
                "grado_polin=list(range(maxdeg))\n",
                "plt.semilogy(grado_polin,training_error, label='Training error')\n",
                "plt.semilogy(grado_polin,validation_error, label='Validation error')\n",
                "plt.xlabel('Degree of polynomial')\n",
                "plt.grid(True)\n",
                "plt.legend()\n",
                "plt.show()"
            ]
        }
    ],
    "metadata": {
        "kernelspec": {
            "display_name": "venv",
            "language": "python",
            "name": "python3"
        },
        "language_info": {
            "codemirror_mode": {
                "name": "ipython",
                "version": 3
            },
            "file_extension": ".py",
            "mimetype": "text/x-python",
            "name": "python",
            "nbconvert_exporter": "python",
            "pygments_lexer": "ipython3",
            "version": "3.13.1"
        }
    },
    "nbformat": 4,
    "nbformat_minor": 4
}
