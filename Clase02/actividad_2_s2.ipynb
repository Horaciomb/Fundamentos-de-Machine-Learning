{
    "cells": [
        {
            "cell_type": "markdown",
            "metadata": {},
            "source": [
                "# <img style=\"float: left; padding-right: 20px; height: 70px\" src=\"https://i.imgur.com/cMzxwTN.jpg\"> Fundamentos de Machine Learning\n",
                "## Sesion 2, Actividad II\n",
                "\n",
                "**Universidad Privada Boliviana**<br/>\n",
                "**Diplomado en Machine Learning y Ciencia de Datos**<br/>\n"
            ]
        },
        {
            "cell_type": "code",
            "execution_count": null,
            "metadata": {
                "collapsed": true
            },
            "outputs": [],
            "source": [
                "# Import necessary libraries\n",
                "%matplotlib inline\n",
                "import operator\n",
                "import numpy as np\n",
                "import pandas as pd\n",
                "import matplotlib.pyplot as plt\n",
                "from sklearn.metrics import mean_squared_error\n",
                "from sklearn.linear_model import LinearRegression\n",
                "from sklearn.model_selection import cross_validate\n",
                "from sklearn.model_selection import train_test_split\n",
                "from sklearn.preprocessing import PolynomialFeatures\n"
            ]
        },
        {
            "attachments": {},
            "cell_type": "markdown",
            "metadata": {},
            "source": [
                "### 1. Leer el dataset"
            ]
        },
        {
            "cell_type": "code",
            "execution_count": null,
            "metadata": {
                "collapsed": true
            },
            "outputs": [],
            "source": [
                "# Read the file \"dataset.csv\" as a Pandas dataframe\n",
                "df = pd.read_csv(\"dataset.csv\")\n",
                "\n",
                "# Eche un vistazo rápido al conjunto de datos\n",
                "df.head()\n"
            ]
        },
        {
            "cell_type": "code",
            "execution_count": null,
            "metadata": {
                "collapsed": true
            },
            "outputs": [],
            "source": [
                "# Asigne los valores de las columnas x e y a la\n",
                "# variables predictoras y de respuesta\n",
                "x = df[[\"x\"]].values\n",
                "y = df.y.values\n"
            ]
        },
        {
            "attachments": {},
            "cell_type": "markdown",
            "metadata": {},
            "source": [
                "### 2. Dividir en Train-validation sets"
            ]
        },
        {
            "cell_type": "code",
            "execution_count": null,
            "metadata": {
                "collapsed": true
            },
            "outputs": [],
            "source": [
                "# Dividir el conjunto de datos en conjuntos de entrenamiento y validación con un conjunto de entrenamiento del 75 %\n",
                "# Establecer estado_aleatorio=1\n",
                "x_train, x_val, y_train, y_val = train_test_split(x,y,train_size=0.75,random_state=0)\n"
            ]
        },
        {
            "cell_type": "markdown",
            "metadata": {},
            "source": [
                "### 3. Realizar la validacion cruzada con 4 pliegues con un polinomio de primer grado"
            ]
        },
        {
            "cell_type": "code",
            "execution_count": null,
            "metadata": {},
            "outputs": [],
            "source": [
                "### codigo aca\n",
                "\n",
                "\n",
                "# obtener el error de validacion cruzada "
            ]
        },
        {
            "cell_type": "markdown",
            "metadata": {},
            "source": [
                "#### 3.1 Analizar la variable de validacion cruzada\n"
            ]
        },
        {
            "cell_type": "markdown",
            "metadata": {},
            "source": []
        },
        {
            "cell_type": "code",
            "execution_count": null,
            "metadata": {},
            "outputs": [],
            "source": [
                "### Encontrar el error promedio de validacion cruzada"
            ]
        },
        {
            "attachments": {},
            "cell_type": "markdown",
            "metadata": {},
            "source": [
                "### 4. Encontrar el  MSE para polinomios de grado variable"
            ]
        },
        {
            "cell_type": "code",
            "execution_count": null,
            "metadata": {},
            "outputs": [],
            "source": [
                "# Seleccionar el grado maximo a iterar\n",
                "maxdeg = 15\n",
                "training_error = []\n",
                "validation_error = []\n",
                "cross_validation_error = []\n",
                "for d in range(maxdeg):\n",
                "    # calculo de los polynomial features\n",
                "    x_poly = ...\n",
                "    \n",
                "    x_poly_train = ...\n",
                "    x_poly_val   = ...\n",
                "    # Inicializar el modelo de regresion sin utilizar el intercept\n",
                "    lreg = ...\n",
                "    # Ajustar el modelo en los datos de entrenamiento\n",
                "    lreg.fit(x_poly_train,y_train)\n",
                "\n",
                "    # Utilizar el modelo entrenado para predecir en los datos transformados del train set\n",
                "    y_train_pred = lreg.predict(x_poly_train)\n",
                "    \n",
                "    # Utilizar el modelo entrenado para predecir en los datos transformados del validation set\n",
                "    y_val_pred   = lreg.predict(x_poly_val)\n",
                "\n",
                "    # Calcular el error en base a los datos en y_train_pred y y_val_pred\n",
                "    training_error.append(mean_squared_error(y_train,y_train_pred))\n",
                "    validation_error.append(mean_squared_error(y_val,y_val_pred))\n",
                "\n",
                "    # realizar cross validation \n",
                "    mse_score = ...\n",
                "    cross_validation_error.append(...)\n",
                "\n",
                "\n",
                "    "
            ]
        },
        {
            "attachments": {},
            "cell_type": "markdown",
            "metadata": {},
            "source": [
                "#### 4.1 Encontrar el grado optimo del polinomio"
            ]
        },
        {
            "cell_type": "code",
            "execution_count": null,
            "metadata": {},
            "outputs": [],
            "source": [
                "..."
            ]
        },
        {
            "attachments": {},
            "cell_type": "markdown",
            "metadata": {},
            "source": [
                "#### 4.2 Graficar los errores obtenidos"
            ]
        },
        {
            "cell_type": "code",
            "execution_count": null,
            "metadata": {},
            "outputs": [],
            "source": [
                "\n",
                "fig,ax = plt.subplots(1,2,figsize=(16,8))\n",
                "\n",
                "# Graficar el error del training set con etiquetas\n",
                "ax[0].plot(range(maxdeg),np.log(training_error),label=\"Training error\")\n",
                "# Graficar el error del validation set con etiquetas\n",
                "ax[0].plot(range(maxdeg),np.log(validation_error),label=\"Validation error\")\n",
                "\n",
                "# Graficar el error del training set con etiquetas\n",
                "ax[1].plot(range(maxdeg),np.log(training_error),label=\"Training error\")\n",
                "# Graficar el error del validation set con etiquetas\n",
                "ax[1].plot(range(maxdeg),np.log(cross_validation_error),label=\"Cross-Validation error\")\n",
                "\n",
                "\n",
                "# agregar etiquetas a los ejes:\n",
                "ax[0].set_xlabel(\"Grado del polinomio\")\n",
                "ax[0].set_ylabel(\"Log MSE\")\n",
                "ax[0].set_title(\"Log de error de validacion vs grado\")\n",
                "ax[0].legend(loc='best')\n",
                "\n",
                "# agregar etiquetas a los ejes:\n",
                "ax[1].set_xlabel(\"Grado del polinomio\")\n",
                "ax[1].set_ylabel(\"Log MSE\")\n",
                "ax[1].set_title(\"Log de Cross Val. error vs grado\")\n",
                "ax[1].legend(loc='best')\n",
                "\n",
                "plt.show()"
            ]
        },
        {
            "attachments": {},
            "cell_type": "markdown",
            "metadata": {},
            "source": [
                "⏸ Si ejecutas el ejercicio con un estado aleatorio de 0, ¿notas algún cambio? ¿Qué conclusión puedes sacar de este experimento?\n"
            ]
        },
        {
            "cell_type": "code",
            "execution_count": null,
            "metadata": {},
            "outputs": [],
            "source": [
                "\n",
                "answer1 = '---'\n"
            ]
        },
        {
            "cell_type": "markdown",
            "metadata": {},
            "source": [
                "### 5. Analisis para otro dataset\n",
                "\n",
                "Repetir los pasos anteriores $1,2,4$ para el `dataset1.csv`\n",
                "\n",
                "\n",
                "Anotar sus observaciones"
            ]
        },
        {
            "cell_type": "markdown",
            "metadata": {},
            "source": []
        }
    ],
    "metadata": {
        "kernelspec": {
            "display_name": "Python 3.10.4 64-bit",
            "language": "python",
            "name": "python3"
        },
        "language_info": {
            "codemirror_mode": {
                "name": "ipython",
                "version": 3
            },
            "file_extension": ".py",
            "mimetype": "text/x-python",
            "name": "python",
            "nbconvert_exporter": "python",
            "pygments_lexer": "ipython3",
            "version": "3.10.4"
        },
        "vscode": {
            "interpreter": {
                "hash": "f66e3edf856e3e4a3652763ddb6c2ab1c25665e5b9e1fed087bb1a040433f3bb"
            }
        }
    },
    "nbformat": 4,
    "nbformat_minor": 4
}
