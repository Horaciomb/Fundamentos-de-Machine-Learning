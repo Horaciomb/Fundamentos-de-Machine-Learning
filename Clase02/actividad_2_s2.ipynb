{
    "cells": [
        {
            "cell_type": "markdown",
            "metadata": {},
            "source": [
                "# <img style=\"float: left; padding-right: 20px; height: 70px\" src=\"https://i.imgur.com/cMzxwTN.jpg\"> Fundamentos de Machine Learning\n",
                "## Sesion 2, Actividad II\n",
                "\n",
                "**Universidad Privada Boliviana**<br/>\n",
                "**Diplomado en Machine Learning y Ciencia de Datos**<br/>\n"
            ]
        },
        {
            "cell_type": "code",
            "execution_count": 4,
            "metadata": {
                "collapsed": true
            },
            "outputs": [],
            "source": [
                "# Import necessary libraries\n",
                "%matplotlib inline\n",
                "import operator\n",
                "import numpy as np\n",
                "import pandas as pd\n",
                "import matplotlib.pyplot as plt\n",
                "from sklearn.metrics import mean_squared_error\n",
                "from sklearn.linear_model import LinearRegression\n",
                "from sklearn.model_selection import cross_validate\n",
                "from sklearn.model_selection import train_test_split\n",
                "from sklearn.preprocessing import PolynomialFeatures\n"
            ]
        },
        {
            "attachments": {},
            "cell_type": "markdown",
            "metadata": {},
            "source": [
                "### 1. Leer el dataset"
            ]
        },
        {
            "cell_type": "code",
            "execution_count": 5,
            "metadata": {
                "collapsed": true
            },
            "outputs": [
                {
                    "data": {
                        "application/vnd.microsoft.datawrangler.viewer.v0+json": {
                            "columns": [
                                {
                                    "name": "index",
                                    "rawType": "int64",
                                    "type": "integer"
                                },
                                {
                                    "name": "x1",
                                    "rawType": "float64",
                                    "type": "float"
                                },
                                {
                                    "name": "y1",
                                    "rawType": "float64",
                                    "type": "float"
                                }
                            ],
                            "conversionMethod": "pd.DataFrame",
                            "ref": "afb24b25-a7fc-46d4-ae4d-39b0f7a6f890",
                            "rows": [
                                [
                                    "0",
                                    "0.265959809",
                                    "1.624971832"
                                ],
                                [
                                    "1",
                                    "0.516804535",
                                    "2.734012228"
                                ],
                                [
                                    "2",
                                    "0.658542082",
                                    "4.628908017"
                                ],
                                [
                                    "3",
                                    "1.678051942",
                                    "5.186454785"
                                ],
                                [
                                    "4",
                                    "2.112463381",
                                    "8.395088239"
                                ]
                            ],
                            "shape": {
                                "columns": 2,
                                "rows": 5
                            }
                        },
                        "text/html": [
                            "<div>\n",
                            "<style scoped>\n",
                            "    .dataframe tbody tr th:only-of-type {\n",
                            "        vertical-align: middle;\n",
                            "    }\n",
                            "\n",
                            "    .dataframe tbody tr th {\n",
                            "        vertical-align: top;\n",
                            "    }\n",
                            "\n",
                            "    .dataframe thead th {\n",
                            "        text-align: right;\n",
                            "    }\n",
                            "</style>\n",
                            "<table border=\"1\" class=\"dataframe\">\n",
                            "  <thead>\n",
                            "    <tr style=\"text-align: right;\">\n",
                            "      <th></th>\n",
                            "      <th>x1</th>\n",
                            "      <th>y1</th>\n",
                            "    </tr>\n",
                            "  </thead>\n",
                            "  <tbody>\n",
                            "    <tr>\n",
                            "      <th>0</th>\n",
                            "      <td>0.265960</td>\n",
                            "      <td>1.624972</td>\n",
                            "    </tr>\n",
                            "    <tr>\n",
                            "      <th>1</th>\n",
                            "      <td>0.516805</td>\n",
                            "      <td>2.734012</td>\n",
                            "    </tr>\n",
                            "    <tr>\n",
                            "      <th>2</th>\n",
                            "      <td>0.658542</td>\n",
                            "      <td>4.628908</td>\n",
                            "    </tr>\n",
                            "    <tr>\n",
                            "      <th>3</th>\n",
                            "      <td>1.678052</td>\n",
                            "      <td>5.186455</td>\n",
                            "    </tr>\n",
                            "    <tr>\n",
                            "      <th>4</th>\n",
                            "      <td>2.112463</td>\n",
                            "      <td>8.395088</td>\n",
                            "    </tr>\n",
                            "  </tbody>\n",
                            "</table>\n",
                            "</div>"
                        ],
                        "text/plain": [
                            "         x1        y1\n",
                            "0  0.265960  1.624972\n",
                            "1  0.516805  2.734012\n",
                            "2  0.658542  4.628908\n",
                            "3  1.678052  5.186455\n",
                            "4  2.112463  8.395088"
                        ]
                    },
                    "execution_count": 5,
                    "metadata": {},
                    "output_type": "execute_result"
                }
            ],
            "source": [
                "# Read the file \"dataset.csv\" as a Pandas dataframe\n",
                "df = pd.read_csv(\"dataset1.csv\")\n",
                "\n",
                "# Eche un vistazo rápido al conjunto de datos\n",
                "df.head()\n"
            ]
        },
        {
            "cell_type": "code",
            "execution_count": 6,
            "metadata": {
                "collapsed": true
            },
            "outputs": [],
            "source": [
                "# Asigne los valores de las columnas x e y a la\n",
                "# variables predictoras y de respuesta\n",
                "x = df[[\"x1\"]].values\n",
                "y = df[\"y1\"].values\n"
            ]
        },
        {
            "attachments": {},
            "cell_type": "markdown",
            "metadata": {},
            "source": [
                "### 2. Dividir en Train-validation sets"
            ]
        },
        {
            "cell_type": "code",
            "execution_count": 24,
            "metadata": {
                "collapsed": true
            },
            "outputs": [],
            "source": [
                "# Dividir el conjunto de datos en conjuntos de entrenamiento y validación con un conjunto de entrenamiento del 75 %\n",
                "# Establecer estado_aleatorio=1\n",
                "# Dividir estos datos para comparar con validacion cruzada\n",
                "x_train, x_val, y_train, y_val = train_test_split(x,y,train_size=0.75,random_state=0)\n"
            ]
        },
        {
            "cell_type": "markdown",
            "metadata": {},
            "source": [
                "### 3. Realizar la validacion cruzada con 4 pliegues con un polinomio de primer grado"
            ]
        },
        {
            "cell_type": "code",
            "execution_count": 25,
            "metadata": {},
            "outputs": [
                {
                    "name": "stdout",
                    "output_type": "stream",
                    "text": [
                        "{'fit_time': array([0.00167155, 0.00173807, 0.00280595, 0.00179839]), 'score_time': array([0.0016427 , 0.00310087, 0.0016191 , 0.00148773]), 'test_score': array([-229.16475243,  -49.4446576 ,  -31.27591997, -152.14280128])}\n",
                        "115.5070328193026\n"
                    ]
                }
            ],
            "source": [
                "### codigo aca\n",
                "# Para un polinomio de grado 1, y validacion cruzada de 4 pliegues\n",
                "x_poly = PolynomialFeatures(degree=1).fit_transform(x)\n",
                "lreg   = LinearRegression(fit_intercept=False)\n",
                "cross_val = cross_validate(lreg, x_poly, y, cv =4, scoring=\"neg_mean_squared_error\")\n",
                "# obtener el error de validacion cruzada\n",
                "print(cross_val) \n",
                "# obtener el promedio del error de validacion cruzada\n",
                "print(-1*np.mean(cross_val[\"test_score\"]))"
            ]
        },
        {
            "cell_type": "markdown",
            "metadata": {},
            "source": [
                "#### 3.1 Analizar la variable de validacion cruzada\n"
            ]
        },
        {
            "cell_type": "markdown",
            "metadata": {},
            "source": []
        },
        {
            "cell_type": "code",
            "execution_count": 26,
            "metadata": {},
            "outputs": [
                {
                    "name": "stdout",
                    "output_type": "stream",
                    "text": [
                        "115.5070328193026\n"
                    ]
                }
            ],
            "source": [
                "### Encontrar el error promedio de validacion cruzada\n",
                "print(-1*np.mean(cross_val[\"test_score\"]))"
            ]
        },
        {
            "attachments": {},
            "cell_type": "markdown",
            "metadata": {},
            "source": [
                "### 4. Encontrar el  MSE para polinomios de grado variable"
            ]
        },
        {
            "cell_type": "code",
            "execution_count": 37,
            "metadata": {},
            "outputs": [
                {
                    "name": "stdout",
                    "output_type": "stream",
                    "text": [
                        "val0 42.85648001438554\n",
                        "cros0 35.85197606308751\n",
                        "val1 42.72231704723106\n",
                        "cros1 115.5070328193026\n",
                        "val2 3.6696196613016077\n",
                        "cros2 6.543435472232517\n",
                        "val3 1.736382176936767\n",
                        "cros3 17.585202924813466\n",
                        "val4 1.7590651265194257\n",
                        "cros4 78.3408751382974\n",
                        "val5 2.1895640955413156\n",
                        "cros5 212.15459970793955\n",
                        "val6 2.1962657499572513\n",
                        "cros6 1117.2526378104385\n",
                        "val7 3.4571586678299737\n",
                        "cros7 200996.91380941164\n",
                        "val8 2.9415994163262034\n",
                        "cros8 838349.5091880645\n",
                        "val9 2.953752206274275\n",
                        "cros9 73207839.86130488\n",
                        "val10 4.547240132535112\n",
                        "cros10 1497286.1656705092\n",
                        "val11 4.5774533014863446\n",
                        "cros11 239240.8917740415\n",
                        "val12 4.268856329247629\n",
                        "cros12 16387352.519861558\n",
                        "val13 28.459122301940752\n",
                        "cros13 25582288.59049732\n",
                        "val14 33.10915521203422\n",
                        "cros14 91550280.610754\n"
                    ]
                }
            ],
            "source": [
                "# Seleccionar el grado maximo a iterar\n",
                "maxdeg = 15\n",
                "training_error = []\n",
                "validation_error = []\n",
                "cross_validation_error = []\n",
                "for d in range(maxdeg):\n",
                "    # calculo de los polynomial features\n",
                "    x_poly = PolynomialFeatures(degree=d).fit_transform(x)\n",
                "    \n",
                "    x_poly_train = PolynomialFeatures(degree=d).fit_transform(x_train)\n",
                "    x_poly_val   = PolynomialFeatures(degree=d).fit_transform(x_val)\n",
                "    # Inicializar el modelo de regresion sin utilizar el intercept\n",
                "    lreg = LinearRegression(fit_intercept=False)\n",
                "    # Ajustar el modelo en los datos de entrenamiento\n",
                "    # Un solo conjunto de validacion\n",
                "    lreg.fit(x_poly_train,y_train)\n",
                "\n",
                "    # Utilizar el modelo entrenado para predecir en los datos transformados del train set\n",
                "    # Un solo conjunto de validacion\n",
                "    y_train_pred = lreg.predict(x_poly_train)\n",
                "    # Utilizar el modelo entrenado para predecir en los datos transformados del validation set\n",
                "    y_val_pred   = lreg.predict(x_poly_val)\n",
                "\n",
                "    # Calcular el error en base a los datos en y_train_pred y y_val_pred\n",
                "    training_error.append(mean_squared_error(y_train,y_train_pred))\n",
                "    validation_error.append(mean_squared_error(y_val,y_val_pred))\n",
                "    print(f\"val{d}\",validation_error[d])\n",
                "    # realizar cross validation \n",
                "    cross_val = cross_validate(lreg, x_poly, y, cv = 4 , scoring = \"neg_mean_squared_error\" )\n",
                "    mse_score = np.mean(-1*cross_val[\"test_score\"])\n",
                "    cross_validation_error.append(mse_score)\n",
                "    print(f\"cros{d}\",cross_validation_error[d])\n",
                "\n",
                "\n",
                "    "
            ]
        },
        {
            "attachments": {},
            "cell_type": "markdown",
            "metadata": {},
            "source": [
                "#### 4.1 Encontrar el grado optimo del polinomio"
            ]
        },
        {
            "cell_type": "code",
            "execution_count": 28,
            "metadata": {},
            "outputs": [
                {
                    "name": "stdout",
                    "output_type": "stream",
                    "text": [
                        "grado optimo validacion unica: 3\n",
                        "grado optimo validacion cruzada: 2\n"
                    ]
                }
            ],
            "source": [
                "grado_optimo_valid_unica = validation_error.index(min(validation_error))\n",
                "grado_optimo_valid_cruzada = cross_validation_error.index(min(cross_validation_error))\n",
                "print(\"grado optimo validacion unica:\", grado_optimo_valid_unica)\n",
                "print(\"grado optimo validacion cruzada:\", grado_optimo_valid_cruzada) "
            ]
        },
        {
            "attachments": {},
            "cell_type": "markdown",
            "metadata": {},
            "source": [
                "#### 4.2 Graficar los errores obtenidos"
            ]
        },
        {
            "cell_type": "code",
            "execution_count": 29,
            "metadata": {},
            "outputs": [
                {
                    "data": {
                        "image/png": "[encoded data removed]",
                        "text/plain": [
                            "<Figure size 1600x800 with 2 Axes>"
                        ]
                    },
                    "metadata": {},
                    "output_type": "display_data"
                }
            ],
            "source": [
                "\n",
                "fig,ax = plt.subplots(1,2,figsize=(16,8))\n",
                "\n",
                "# Graficar el error del training set con etiquetas\n",
                "ax[0].plot(range(maxdeg),np.log(training_error),label=\"Training error\")\n",
                "# Graficar el error del validation set con etiquetas\n",
                "ax[0].plot(range(maxdeg),np.log(validation_error), \"o-\",label=\"Validation error\")\n",
                "\n",
                "# Graficar el error del training set con etiquetas\n",
                "ax[1].plot(range(maxdeg),np.log(training_error),label=\"Training error\")\n",
                "# Graficar el error del validation set con etiquetas\n",
                "ax[1].plot(range(maxdeg),np.log(cross_validation_error),\"o-\",label=\"Cross-Validation error\")\n",
                "\n",
                "\n",
                "# agregar etiquetas a los ejes:\n",
                "ax[0].set_xlabel(\"Grado del polinomio\")\n",
                "ax[0].set_ylabel(\"Log MSE\")\n",
                "ax[0].set_title(\"Log de error de validacion vs grado\")\n",
                "ax[0].legend(loc='best')\n",
                "\n",
                "# agregar etiquetas a los ejes:\n",
                "ax[1].set_xlabel(\"Grado del polinomio\")\n",
                "ax[1].set_ylabel(\"Log MSE\")\n",
                "ax[1].set_title(\"Log de Cross Val. error vs grado\")\n",
                "ax[1].legend(loc='best')\n",
                "\n",
                "plt.show()"
            ]
        },
        {
            "cell_type": "code",
            "execution_count": 33,
            "metadata": {},
            "outputs": [
                {
                    "name": "stdout",
                    "output_type": "stream",
                    "text": [
                        "Grado | Error de Validación | Error de Validación Cruzada\n",
                        "---------------------------------------------------------\n",
                        "2     | 3.6696196613016077   | 6.543435472232517   \n",
                        "4     | 1.7590651265194257   | 78.3408751382974    \n",
                        "6     | 2.1962657499572513   | 1117.2526378104385  \n"
                    ]
                }
            ],
            "source": [
                "# Grados de polinomio seleccionados\n",
                "selected_degrees = [2, 4, 6]\n",
                "\n",
                "# Imprimir los valores de error para los grados seleccionados\n",
                "print(\"Grado | Error de Validación | Error de Validación Cruzada\")\n",
                "print(\"---------------------------------------------------------\")\n",
                "for degree in selected_degrees:\n",
                "    val_error = validation_error[degree]\n",
                "    cross_val_error = cross_validation_error[degree]\n",
                "    print(f\"{degree:<5} | {val_error:<20} | {cross_val_error:<20}\")"
            ]
        },
        {
            "cell_type": "code",
            "execution_count": 35,
            "metadata": {},
            "outputs": [
                {
                    "name": "stdout",
                    "output_type": "stream",
                    "text": [
                        "[42.85648001438554, 42.72231704723106, 3.6696196613016077]\n"
                    ]
                }
            ],
            "source": [
                "print(validation_error[:3])"
            ]
        },
        {
            "attachments": {},
            "cell_type": "markdown",
            "metadata": {},
            "source": [
                "⏸ Si ejecutas el ejercicio con un estado aleatorio de 0, ¿notas algún cambio? ¿Qué conclusión puedes sacar de este experimento?\n"
            ]
        },
        {
            "cell_type": "code",
            "execution_count": 30,
            "metadata": {},
            "outputs": [],
            "source": [
                "\n",
                "answer1 = '---'\n"
            ]
        },
        {
            "cell_type": "markdown",
            "metadata": {},
            "source": [
                "### 5. Analisis para otro dataset\n",
                "\n",
                "Repetir los pasos anteriores $1,2,4$ para el `dataset2.csv`\n",
                "\n",
                "\n",
                "Anotar sus observaciones"
            ]
        },
        {
            "cell_type": "markdown",
            "metadata": {},
            "source": []
        }
    ],
    "metadata": {
        "kernelspec": {
            "display_name": "Python 3",
            "language": "python",
            "name": "python3"
        },
        "language_info": {
            "codemirror_mode": {
                "name": "ipython",
                "version": 3
            },
            "file_extension": ".py",
            "mimetype": "text/x-python",
            "name": "python",
            "nbconvert_exporter": "python",
            "pygments_lexer": "ipython3",
            "version": "3.12.7"
        }
    },
    "nbformat": 4,
    "nbformat_minor": 4
}
