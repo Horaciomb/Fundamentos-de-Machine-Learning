{
    "cells": [
        {
            "cell_type": "markdown",
            "metadata": {},
            "source": [
                "# <img style=\"float: left; padding-right: 20px; height: 70px\" src=\"https://i.imgur.com/cMzxwTN.jpg\"> Fundamentos de Machine Learning\n",
                "## Sesion 2, Actividad I\n",
                "**Universidad Privada Boliviana**<br/>\n",
                "**Diplomado en Machine Learning y Ciencia de Datos**<br/>\n",
                "\n",
                "\n",
                "\n",
                "<hr>\n"
            ]
        },
        {
            "cell_type": "code",
            "execution_count": 1,
            "metadata": {},
            "outputs": [],
            "source": [
                "# Import necessary libraries\n",
                "import numpy as np\n",
                "import pandas as pd\n",
                "import matplotlib.pyplot as plt\n",
                "from sklearn.metrics import mean_squared_error\n",
                "from sklearn.linear_model import LinearRegression\n",
                "from sklearn.model_selection import train_test_split\n",
                "from sklearn.preprocessing import PolynomialFeatures\n",
                "%matplotlib inline\n"
            ]
        },
        {
            "attachments": {},
            "cell_type": "markdown",
            "metadata": {},
            "source": [
                "## 3. Optimizacion del grado del polinomio. \n",
                "\n",
                "### 3.1 Leer el dataset"
            ]
        },
        {
            "cell_type": "code",
            "execution_count": 2,
            "metadata": {},
            "outputs": [
                {
                    "data": {
                        "text/html": [
                            "<div>\n",
                            "<style scoped>\n",
                            "    .dataframe tbody tr th:only-of-type {\n",
                            "        vertical-align: middle;\n",
                            "    }\n",
                            "\n",
                            "    .dataframe tbody tr th {\n",
                            "        vertical-align: top;\n",
                            "    }\n",
                            "\n",
                            "    .dataframe thead th {\n",
                            "        text-align: right;\n",
                            "    }\n",
                            "</style>\n",
                            "<table border=\"1\" class=\"dataframe\">\n",
                            "  <thead>\n",
                            "    <tr style=\"text-align: right;\">\n",
                            "      <th></th>\n",
                            "      <th>x1</th>\n",
                            "      <th>y1</th>\n",
                            "    </tr>\n",
                            "  </thead>\n",
                            "  <tbody>\n",
                            "    <tr>\n",
                            "      <th>0</th>\n",
                            "      <td>0.265960</td>\n",
                            "      <td>1.624972</td>\n",
                            "    </tr>\n",
                            "    <tr>\n",
                            "      <th>1</th>\n",
                            "      <td>0.516805</td>\n",
                            "      <td>2.734012</td>\n",
                            "    </tr>\n",
                            "    <tr>\n",
                            "      <th>2</th>\n",
                            "      <td>0.658542</td>\n",
                            "      <td>4.628908</td>\n",
                            "    </tr>\n",
                            "    <tr>\n",
                            "      <th>3</th>\n",
                            "      <td>1.678052</td>\n",
                            "      <td>5.186455</td>\n",
                            "    </tr>\n",
                            "    <tr>\n",
                            "      <th>4</th>\n",
                            "      <td>2.112463</td>\n",
                            "      <td>8.395088</td>\n",
                            "    </tr>\n",
                            "  </tbody>\n",
                            "</table>\n",
                            "</div>"
                        ],
                        "text/plain": [
                            "         x1        y1\n",
                            "0  0.265960  1.624972\n",
                            "1  0.516805  2.734012\n",
                            "2  0.658542  4.628908\n",
                            "3  1.678052  5.186455\n",
                            "4  2.112463  8.395088"
                        ]
                    },
                    "execution_count": 2,
                    "metadata": {},
                    "output_type": "execute_result"
                }
            ],
            "source": [
                "# Leer el archivo \"dataset1.csv\" como  Pandas dataframe\n",
                "df = pd.read_csv('dataset1.csv')\n",
                "\n",
                "# Eche un vistazo rápido al conjunto de datos\n",
                "df.head()\n",
                "\n"
            ]
        },
        {
            "cell_type": "code",
            "execution_count": 3,
            "metadata": {},
            "outputs": [
                {
                    "data": {
                        "text/plain": [
                            "Text(0.5, 1.0, 'y1 vs x1')"
                        ]
                    },
                    "execution_count": 3,
                    "metadata": {},
                    "output_type": "execute_result"
                },
                {
                    "data": {
                        "image/png": "[encoded data removed]",
                        "text/plain": [
                            "<Figure size 640x480 with 1 Axes>"
                        ]
                    },
                    "metadata": {},
                    "output_type": "display_data"
                }
            ],
            "source": [
                "## Graficar los datos\n",
                "plt.plot(df['x1'], df['y1'], 'o')\n",
                "plt.xlabel('x1')\n",
                "plt.ylabel('y1')\n",
                "plt.title('y1 vs x1')"
            ]
        },
        {
            "cell_type": "markdown",
            "metadata": {},
            "source": [
                "### ⏸ Según el gráfico anterior, ¿podria indicar el grado optimo del polinomio para una regresion lineal polinomial?"
            ]
        },
        {
            "cell_type": "markdown",
            "metadata": {},
            "source": [
                "Respuesta: `grado 2`"
            ]
        },
        {
            "cell_type": "markdown",
            "metadata": {},
            "source": [
                "### 3.2 Obtener las variables de entrada y salida"
            ]
        },
        {
            "cell_type": "code",
            "execution_count": 4,
            "metadata": {},
            "outputs": [],
            "source": [
                "# Asigne los valores de las columnas x e y a la\n",
                "# variables predictoras y de respuesta\n",
                "# Variable predictora\n",
                "x = df[[\"x1\"]].values\n",
                "# Variable de respuesta\n",
                "y = df[\"y1\"].values\n",
                "\n",
                "\n"
            ]
        },
        {
            "cell_type": "code",
            "execution_count": null,
            "metadata": {},
            "outputs": [],
            "source": []
        },
        {
            "attachments": {},
            "cell_type": "markdown",
            "metadata": {},
            "source": [
                "### 3.3 Train-validation split\n",
                "\n",
                "Dividir los datos de entrada en `Train/Validation` sets"
            ]
        },
        {
            "cell_type": "code",
            "execution_count": 13,
            "metadata": {
                "collapsed": true
            },
            "outputs": [
                {
                    "ename": "InvalidParameterError",
                    "evalue": "The 'random_state' parameter of train_test_split must be an int in the range [0, 4294967295], an instance of 'numpy.random.mtrand.RandomState' or None. Got 0.2 instead.",
                    "output_type": "error",
                    "traceback": [
                        "\u001b[31m---------------------------------------------------------------------------\u001b[39m",
                        "\u001b[31mInvalidParameterError\u001b[39m                     Traceback (most recent call last)",
                        "\u001b[36mCell\u001b[39m\u001b[36m \u001b[39m\u001b[32mIn[13]\u001b[39m\u001b[32m, line 3\u001b[39m\n\u001b[32m      1\u001b[39m \u001b[38;5;66;03m# Dividir el conjunto de datos en conjuntos de entrenamiento y validación con un conjunto de entrenamiento del 75 %\u001b[39;00m\n\u001b[32m      2\u001b[39m \u001b[38;5;66;03m# Establecer estado_aleatorio=1\u001b[39;00m\n\u001b[32m----> \u001b[39m\u001b[32m3\u001b[39m x_train, x_val, y_train, y_val = \u001b[43mtrain_test_split\u001b[49m\u001b[43m(\u001b[49m\u001b[43mx\u001b[49m\u001b[43m,\u001b[49m\u001b[43m \u001b[49m\u001b[43my\u001b[49m\u001b[43m,\u001b[49m\u001b[43m \u001b[49m\u001b[43mtest_size\u001b[49m\u001b[43m=\u001b[49m\u001b[32;43m0.25\u001b[39;49m\u001b[43m,\u001b[49m\u001b[43m \u001b[49m\u001b[43mrandom_state\u001b[49m\u001b[43m=\u001b[49m\u001b[32;43m0.2\u001b[39;49m\u001b[43m)\u001b[49m\n\u001b[32m      4\u001b[39m \u001b[38;5;66;03m# random_state=1 para reproducibilidad\u001b[39;00m\n",
                        "\u001b[36mFile \u001b[39m\u001b[32mc:\\Users\\DATABYTES\\Documents\\Diplomado\\FunadmentosMachineLearning\\Fundamentos-de-Machine-Learning\\venv\\Lib\\site-packages\\sklearn\\utils\\_param_validation.py:206\u001b[39m, in \u001b[36mvalidate_params.<locals>.decorator.<locals>.wrapper\u001b[39m\u001b[34m(*args, **kwargs)\u001b[39m\n\u001b[32m    203\u001b[39m to_ignore += [\u001b[33m\"\u001b[39m\u001b[33mself\u001b[39m\u001b[33m\"\u001b[39m, \u001b[33m\"\u001b[39m\u001b[33mcls\u001b[39m\u001b[33m\"\u001b[39m]\n\u001b[32m    204\u001b[39m params = {k: v \u001b[38;5;28;01mfor\u001b[39;00m k, v \u001b[38;5;129;01min\u001b[39;00m params.arguments.items() \u001b[38;5;28;01mif\u001b[39;00m k \u001b[38;5;129;01mnot\u001b[39;00m \u001b[38;5;129;01min\u001b[39;00m to_ignore}\n\u001b[32m--> \u001b[39m\u001b[32m206\u001b[39m \u001b[43mvalidate_parameter_constraints\u001b[49m\u001b[43m(\u001b[49m\n\u001b[32m    207\u001b[39m \u001b[43m    \u001b[49m\u001b[43mparameter_constraints\u001b[49m\u001b[43m,\u001b[49m\u001b[43m \u001b[49m\u001b[43mparams\u001b[49m\u001b[43m,\u001b[49m\u001b[43m \u001b[49m\u001b[43mcaller_name\u001b[49m\u001b[43m=\u001b[49m\u001b[43mfunc\u001b[49m\u001b[43m.\u001b[49m\u001b[34;43m__qualname__\u001b[39;49m\n\u001b[32m    208\u001b[39m \u001b[43m\u001b[49m\u001b[43m)\u001b[49m\n\u001b[32m    210\u001b[39m \u001b[38;5;28;01mtry\u001b[39;00m:\n\u001b[32m    211\u001b[39m     \u001b[38;5;28;01mwith\u001b[39;00m config_context(\n\u001b[32m    212\u001b[39m         skip_parameter_validation=(\n\u001b[32m    213\u001b[39m             prefer_skip_nested_validation \u001b[38;5;129;01mor\u001b[39;00m global_skip_validation\n\u001b[32m    214\u001b[39m         )\n\u001b[32m    215\u001b[39m     ):\n",
                        "\u001b[36mFile \u001b[39m\u001b[32mc:\\Users\\DATABYTES\\Documents\\Diplomado\\FunadmentosMachineLearning\\Fundamentos-de-Machine-Learning\\venv\\Lib\\site-packages\\sklearn\\utils\\_param_validation.py:98\u001b[39m, in \u001b[36mvalidate_parameter_constraints\u001b[39m\u001b[34m(parameter_constraints, params, caller_name)\u001b[39m\n\u001b[32m     92\u001b[39m \u001b[38;5;28;01melse\u001b[39;00m:\n\u001b[32m     93\u001b[39m     constraints_str = (\n\u001b[32m     94\u001b[39m         \u001b[33mf\u001b[39m\u001b[33m\"\u001b[39m\u001b[38;5;132;01m{\u001b[39;00m\u001b[33m'\u001b[39m\u001b[33m, \u001b[39m\u001b[33m'\u001b[39m.join([\u001b[38;5;28mstr\u001b[39m(c)\u001b[38;5;250m \u001b[39m\u001b[38;5;28;01mfor\u001b[39;00m\u001b[38;5;250m \u001b[39mc\u001b[38;5;250m \u001b[39m\u001b[38;5;129;01min\u001b[39;00m\u001b[38;5;250m \u001b[39mconstraints[:-\u001b[32m1\u001b[39m]])\u001b[38;5;132;01m}\u001b[39;00m\u001b[33m or\u001b[39m\u001b[33m\"\u001b[39m\n\u001b[32m     95\u001b[39m         \u001b[33mf\u001b[39m\u001b[33m\"\u001b[39m\u001b[33m \u001b[39m\u001b[38;5;132;01m{\u001b[39;00mconstraints[-\u001b[32m1\u001b[39m]\u001b[38;5;132;01m}\u001b[39;00m\u001b[33m\"\u001b[39m\n\u001b[32m     96\u001b[39m     )\n\u001b[32m---> \u001b[39m\u001b[32m98\u001b[39m \u001b[38;5;28;01mraise\u001b[39;00m InvalidParameterError(\n\u001b[32m     99\u001b[39m     \u001b[33mf\u001b[39m\u001b[33m\"\u001b[39m\u001b[33mThe \u001b[39m\u001b[38;5;132;01m{\u001b[39;00mparam_name\u001b[38;5;132;01m!r}\u001b[39;00m\u001b[33m parameter of \u001b[39m\u001b[38;5;132;01m{\u001b[39;00mcaller_name\u001b[38;5;132;01m}\u001b[39;00m\u001b[33m must be\u001b[39m\u001b[33m\"\u001b[39m\n\u001b[32m    100\u001b[39m     \u001b[33mf\u001b[39m\u001b[33m\"\u001b[39m\u001b[33m \u001b[39m\u001b[38;5;132;01m{\u001b[39;00mconstraints_str\u001b[38;5;132;01m}\u001b[39;00m\u001b[33m. Got \u001b[39m\u001b[38;5;132;01m{\u001b[39;00mparam_val\u001b[38;5;132;01m!r}\u001b[39;00m\u001b[33m instead.\u001b[39m\u001b[33m\"\u001b[39m\n\u001b[32m    101\u001b[39m )\n",
                        "\u001b[31mInvalidParameterError\u001b[39m: The 'random_state' parameter of train_test_split must be an int in the range [0, 4294967295], an instance of 'numpy.random.mtrand.RandomState' or None. Got 0.2 instead."
                    ]
                }
            ],
            "source": [
                "# Dividir el conjunto de datos en conjuntos de entrenamiento y validación con un conjunto de entrenamiento del 75 %\n",
                "# Establecer estado_aleatorio=1\n",
                "x_train, x_val, y_train, y_val = train_test_split(x, y, test_size=0.25, random_state=0.2)\n",
                "# random_state=1 para reproducibilidad"
            ]
        },
        {
            "cell_type": "code",
            "execution_count": null,
            "metadata": {},
            "outputs": [
                {
                    "data": {
                        "text/plain": [
                            "Text(0.5, 1.0, 'y1 vs x1')"
                        ]
                    },
                    "execution_count": 6,
                    "metadata": {},
                    "output_type": "execute_result"
                },
                {
                    "data": {
                        "image/png": "[encoded data removed]",
                        "text/plain": [
                            "<Figure size 640x480 with 1 Axes>"
                        ]
                    },
                    "metadata": {},
                    "output_type": "display_data"
                }
            ],
            "source": [
                "# graficar los sets de train y validacion\n",
                "plt.plot(x_train, y_train, 'o', label='Training set')\n",
                "plt.plot(x_val, y_val, 'o', label='Validation set')     \n",
                "plt.xlabel('x1')\n",
                "plt.ylabel('y1')\n",
                "plt.legend(loc=\"best\")\n",
                "plt.title('y1 vs x1')\n",
                "\n"
            ]
        },
        {
            "cell_type": "markdown",
            "metadata": {},
            "source": [
                "Cambiar el estado aleatorio y anotar sus observaciones respecto a la eleccion de los  datos en cada set."
            ]
        },
        {
            "cell_type": "markdown",
            "metadata": {},
            "source": []
        },
        {
            "attachments": {},
            "cell_type": "markdown",
            "metadata": {},
            "source": [
                "### 3.4 Cálculo del train & validation error en términos de MSE"
            ]
        },
        {
            "cell_type": "code",
            "execution_count": null,
            "metadata": {},
            "outputs": [],
            "source": [
                "# Completar el siguiente codigo\n",
                "\n",
                "# Seleccionar el grado maximo a iterar\n",
                "maxdeg = 15\n",
                "training_error = []\n",
                "validation_error = []\n",
                "\n",
                "for d in range(maxdeg):\n",
                "    # calculo de los polynomial features\n",
                "    x_poly_train = PolynomialFeatures(degree=d).fit_transform(x_train)\n",
                "    x_poly_val   = PolynomialFeatures(degree=d).fit_transform(x_val)\n",
                "    # Inicializar el modelo de regresion sin utilizar el intercept\n",
                "    lreg = LinearRegression(fit_intercept=False)\n",
                "\n",
                "    # Ajustar el modelo en los datos de entrenamiento\n",
                "    lreg.fit(x_poly_train, y_train)\n",
                "    # Utilizar el modelo entrenado para predecir en los datos transformados del train set\n",
                "    y_train_pred = lreg.predict(x_poly_train)\n",
                "    \n",
                "    # Utilizar el modelo entrenado para predecir en los datos transformados del validation set\n",
                "    y_val_pred   = lreg.predict(x_poly_val)\n",
                "\n",
                "    # Calcular el error en base a los datos en y_train_pred y y_val_pred\n",
                "    error_train = mean_squared_error(y_train,y_train_pred) # y_train = 1.2 , y_pred = 1.3  => (-0.1)^2\n",
                "    error_val   = mean_squared_error(y_val_pred, y_val)\n",
                "    # adicionar los errores calculados a la lista de training_error y validation_error\n",
                "    training_error.append(error_train)\n",
                "    validation_error.append(error_val)\n",
                "\n",
                "\n",
                "\n",
                "    "
            ]
        },
        {
            "attachments": {},
            "cell_type": "markdown",
            "metadata": {},
            "source": [
                "### 3.5 Encontrar el modelo optimo"
            ]
        },
        {
            "cell_type": "code",
            "execution_count": null,
            "metadata": {},
            "outputs": [
                {
                    "name": "stdout",
                    "output_type": "stream",
                    "text": [
                        "[14.403954723788706, 14.36184535993026, 1.4565803641487578, 1.0701271643695345, 1.0698608304657564, 1.0096837157077825, 1.0083713833243082, 0.8074400428290703, 0.7269804028304238, 0.7235489866195292, 0.6468984340825649, 0.6467249457807457, 0.6417138270314108, 0.5809075354096981, 0.8017709028496256]\n"
                    ]
                }
            ],
            "source": [
                "###\n",
                "print(training_error)\n"
            ]
        },
        {
            "cell_type": "code",
            "execution_count": null,
            "metadata": {},
            "outputs": [
                {
                    "data": {
                        "text/plain": [
                            "[42.85648001438554,\n",
                            " 42.72231704723106,\n",
                            " 3.6696196613016077,\n",
                            " 1.736382176936767,\n",
                            " 1.7590651265194257,\n",
                            " 2.1895640955413156,\n",
                            " 2.1962657499572513,\n",
                            " 3.4571586678299737,\n",
                            " 2.9415994163262034,\n",
                            " 2.953752206274275,\n",
                            " 4.547240132535112,\n",
                            " 4.5774533014863446,\n",
                            " 4.268856329247629,\n",
                            " 28.459122301940752,\n",
                            " 33.10915521203422]"
                        ]
                    },
                    "execution_count": 9,
                    "metadata": {},
                    "output_type": "execute_result"
                }
            ],
            "source": [
                "validation_error"
            ]
        },
        {
            "cell_type": "code",
            "execution_count": null,
            "metadata": {},
            "outputs": [
                {
                    "name": "stdout",
                    "output_type": "stream",
                    "text": [
                        "El error min de validacion: 1.736382176936767\n",
                        "El grado optimo es: 3\n"
                    ]
                }
            ],
            "source": [
                "error_min_val = min(validation_error)\n",
                "print(\"El error min de validacion:\", error_min_val)\n",
                "# El indice del error minimo de validacion\n",
                "grado_optimo = validation_error.index(error_min_val)\n",
                "print(\"El grado optimo es:\", grado_optimo)"
            ]
        },
        {
            "attachments": {},
            "cell_type": "markdown",
            "metadata": {},
            "source": [
                "### 3.6 Graficar el error vs grado del polinomio"
            ]
        },
        {
            "cell_type": "code",
            "execution_count": null,
            "metadata": {
                "collapsed": true
            },
            "outputs": [
                {
                    "data": {
                        "text/plain": [
                            "Text(0.5, 1.0, 'Curva de MSE de validacion y entrenamiento')"
                        ]
                    },
                    "execution_count": 11,
                    "metadata": {},
                    "output_type": "execute_result"
                },
                {
                    "data": {
                        "image/png": "[encoded data removed]",
                        "text/plain": [
                            "<Figure size 640x480 with 1 Axes>"
                        ]
                    },
                    "metadata": {},
                    "output_type": "display_data"
                }
            ],
            "source": [
                "grado_polin = list(range(maxdeg))\n",
                "plt.semilogy(grado_polin, training_error, label='Training error')\n",
                "plt.semilogy(grado_polin, validation_error, label='Validation error')\n",
                "plt.xlabel('Grado del polinomio')\n",
                "plt.ylabel('Error cuadratico medio MSE ' )\n",
                "plt.legend(loc=\"best\")\n",
                "plt.grid()\n",
                "plt.title('Curva de MSE de validacion y entrenamiento')"
            ]
        },
        {
            "attachments": {},
            "cell_type": "markdown",
            "metadata": {},
            "source": [
                "⏸  Si ejecutas el ejercicio con un estado aleatorio de 0, ¿notas algún cambio? ¿A qué atribuirías este cambio?\"\"\""
            ]
        },
        {
            "cell_type": "code",
            "execution_count": 14,
            "metadata": {},
            "outputs": [],
            "source": [
                "\n",
                "# Submit an answer choice as a string below \n",
                "answer1 = 'Cambian los valores, entiendo que es por la variacion en la particion de los datos con los que se entrenan y validan los modelos'\n"
            ]
        }
    ],
    "metadata": {
        "kernelspec": {
            "display_name": "venv",
            "language": "python",
            "name": "python3"
        },
        "language_info": {
            "codemirror_mode": {
                "name": "ipython",
                "version": 3
            },
            "file_extension": ".py",
            "mimetype": "text/x-python",
            "name": "python",
            "nbconvert_exporter": "python",
            "pygments_lexer": "ipython3",
            "version": "3.13.2"
        }
    },
    "nbformat": 4,
    "nbformat_minor": 4
}
