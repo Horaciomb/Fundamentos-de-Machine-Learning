{
    "cells": [
        {
            "cell_type": "markdown",
            "metadata": {},
            "source": [
                "# <img style=\"float: left; padding-right: 20px; height: 70px\" src=\"https://i.imgur.com/cMzxwTN.jpg\"> Fundamentos de Machine Learning\n",
                "## Sesion 2, Actividad I\n",
                "**Universidad Privada Boliviana**<br/>\n",
                "**Diplomado en Machine Learning y Ciencia de Datos**<br/>\n",
                "\n",
                "\n",
                "\n",
                "<hr>\n"
            ]
        },
        {
            "cell_type": "code",
            "execution_count": 6,
            "metadata": {},
            "outputs": [],
            "source": [
                "# Import necessary libraries\n",
                "import numpy as np\n",
                "import pandas as pd\n",
                "import matplotlib.pyplot as plt\n",
                "from sklearn.metrics import mean_squared_error\n",
                "from sklearn.linear_model import LinearRegression\n",
                "from sklearn.model_selection import train_test_split\n",
                "from sklearn.preprocessing import PolynomialFeatures\n",
                "%matplotlib inline\n"
            ]
        },
        {
            "attachments": {},
            "cell_type": "markdown",
            "metadata": {},
            "source": [
                "## 3. Optimizacion del grado del polinomio. \n",
                "\n",
                "### 3.1 Leer el dataset"
            ]
        },
        {
            "cell_type": "code",
            "execution_count": 12,
            "metadata": {},
            "outputs": [
                {
                    "data": {
                        "application/vnd.microsoft.datawrangler.viewer.v0+json": {
                            "columns": [
                                {
                                    "name": "index",
                                    "rawType": "int64",
                                    "type": "integer"
                                },
                                {
                                    "name": "x1",
                                    "rawType": "float64",
                                    "type": "float"
                                },
                                {
                                    "name": "y1",
                                    "rawType": "float64",
                                    "type": "float"
                                }
                            ],
                            "conversionMethod": "pd.DataFrame",
                            "ref": "c43ad447-0906-4c8c-a1f5-fdafe15c3340",
                            "rows": [
                                [
                                    "0",
                                    "0.265959809",
                                    "1.624971832"
                                ],
                                [
                                    "1",
                                    "0.516804535",
                                    "2.734012228"
                                ],
                                [
                                    "2",
                                    "0.658542082",
                                    "4.628908017"
                                ],
                                [
                                    "3",
                                    "1.678051942",
                                    "5.186454785"
                                ],
                                [
                                    "4",
                                    "2.112463381",
                                    "8.395088239"
                                ],
                                [
                                    "5",
                                    "2.757320104",
                                    "8.654015386"
                                ],
                                [
                                    "6",
                                    "3.20084415",
                                    "13.37342442"
                                ],
                                [
                                    "7",
                                    "3.81525424",
                                    "12.02956169"
                                ],
                                [
                                    "8",
                                    "4.174083681",
                                    "14.98275513"
                                ],
                                [
                                    "9",
                                    "5.00518958",
                                    "13.47636068"
                                ],
                                [
                                    "10",
                                    "5.475080969",
                                    "15.16377196"
                                ],
                                [
                                    "11",
                                    "6.645804171",
                                    "15.20157118"
                                ],
                                [
                                    "12",
                                    "6.972575002",
                                    "12.38580868"
                                ],
                                [
                                    "13",
                                    "7.453700886",
                                    "13.76701006"
                                ],
                                [
                                    "14",
                                    "8.176705612",
                                    "11.68874363"
                                ],
                                [
                                    "15",
                                    "8.374575334",
                                    "9.410935786"
                                ],
                                [
                                    "16",
                                    "8.767002495",
                                    "7.3778113"
                                ],
                                [
                                    "17",
                                    "9.292670273",
                                    "6.313343718"
                                ],
                                [
                                    "18",
                                    "9.405113916",
                                    "4.189989621"
                                ],
                                [
                                    "19",
                                    "9.740585148",
                                    "2.70751165"
                                ],
                                [
                                    "20",
                                    "9.909917937",
                                    "1.141627011"
                                ]
                            ],
                            "shape": {
                                "columns": 2,
                                "rows": 21
                            }
                        },
                        "text/html": [
                            "<div>\n",
                            "<style scoped>\n",
                            "    .dataframe tbody tr th:only-of-type {\n",
                            "        vertical-align: middle;\n",
                            "    }\n",
                            "\n",
                            "    .dataframe tbody tr th {\n",
                            "        vertical-align: top;\n",
                            "    }\n",
                            "\n",
                            "    .dataframe thead th {\n",
                            "        text-align: right;\n",
                            "    }\n",
                            "</style>\n",
                            "<table border=\"1\" class=\"dataframe\">\n",
                            "  <thead>\n",
                            "    <tr style=\"text-align: right;\">\n",
                            "      <th></th>\n",
                            "      <th>x1</th>\n",
                            "      <th>y1</th>\n",
                            "    </tr>\n",
                            "  </thead>\n",
                            "  <tbody>\n",
                            "    <tr>\n",
                            "      <th>0</th>\n",
                            "      <td>0.265960</td>\n",
                            "      <td>1.624972</td>\n",
                            "    </tr>\n",
                            "    <tr>\n",
                            "      <th>1</th>\n",
                            "      <td>0.516805</td>\n",
                            "      <td>2.734012</td>\n",
                            "    </tr>\n",
                            "    <tr>\n",
                            "      <th>2</th>\n",
                            "      <td>0.658542</td>\n",
                            "      <td>4.628908</td>\n",
                            "    </tr>\n",
                            "    <tr>\n",
                            "      <th>3</th>\n",
                            "      <td>1.678052</td>\n",
                            "      <td>5.186455</td>\n",
                            "    </tr>\n",
                            "    <tr>\n",
                            "      <th>4</th>\n",
                            "      <td>2.112463</td>\n",
                            "      <td>8.395088</td>\n",
                            "    </tr>\n",
                            "    <tr>\n",
                            "      <th>5</th>\n",
                            "      <td>2.757320</td>\n",
                            "      <td>8.654015</td>\n",
                            "    </tr>\n",
                            "    <tr>\n",
                            "      <th>6</th>\n",
                            "      <td>3.200844</td>\n",
                            "      <td>13.373424</td>\n",
                            "    </tr>\n",
                            "    <tr>\n",
                            "      <th>7</th>\n",
                            "      <td>3.815254</td>\n",
                            "      <td>12.029562</td>\n",
                            "    </tr>\n",
                            "    <tr>\n",
                            "      <th>8</th>\n",
                            "      <td>4.174084</td>\n",
                            "      <td>14.982755</td>\n",
                            "    </tr>\n",
                            "    <tr>\n",
                            "      <th>9</th>\n",
                            "      <td>5.005190</td>\n",
                            "      <td>13.476361</td>\n",
                            "    </tr>\n",
                            "    <tr>\n",
                            "      <th>10</th>\n",
                            "      <td>5.475081</td>\n",
                            "      <td>15.163772</td>\n",
                            "    </tr>\n",
                            "    <tr>\n",
                            "      <th>11</th>\n",
                            "      <td>6.645804</td>\n",
                            "      <td>15.201571</td>\n",
                            "    </tr>\n",
                            "    <tr>\n",
                            "      <th>12</th>\n",
                            "      <td>6.972575</td>\n",
                            "      <td>12.385809</td>\n",
                            "    </tr>\n",
                            "    <tr>\n",
                            "      <th>13</th>\n",
                            "      <td>7.453701</td>\n",
                            "      <td>13.767010</td>\n",
                            "    </tr>\n",
                            "    <tr>\n",
                            "      <th>14</th>\n",
                            "      <td>8.176706</td>\n",
                            "      <td>11.688744</td>\n",
                            "    </tr>\n",
                            "    <tr>\n",
                            "      <th>15</th>\n",
                            "      <td>8.374575</td>\n",
                            "      <td>9.410936</td>\n",
                            "    </tr>\n",
                            "    <tr>\n",
                            "      <th>16</th>\n",
                            "      <td>8.767002</td>\n",
                            "      <td>7.377811</td>\n",
                            "    </tr>\n",
                            "    <tr>\n",
                            "      <th>17</th>\n",
                            "      <td>9.292670</td>\n",
                            "      <td>6.313344</td>\n",
                            "    </tr>\n",
                            "    <tr>\n",
                            "      <th>18</th>\n",
                            "      <td>9.405114</td>\n",
                            "      <td>4.189990</td>\n",
                            "    </tr>\n",
                            "    <tr>\n",
                            "      <th>19</th>\n",
                            "      <td>9.740585</td>\n",
                            "      <td>2.707512</td>\n",
                            "    </tr>\n",
                            "    <tr>\n",
                            "      <th>20</th>\n",
                            "      <td>9.909918</td>\n",
                            "      <td>1.141627</td>\n",
                            "    </tr>\n",
                            "  </tbody>\n",
                            "</table>\n",
                            "</div>"
                        ],
                        "text/plain": [
                            "          x1         y1\n",
                            "0   0.265960   1.624972\n",
                            "1   0.516805   2.734012\n",
                            "2   0.658542   4.628908\n",
                            "3   1.678052   5.186455\n",
                            "4   2.112463   8.395088\n",
                            "5   2.757320   8.654015\n",
                            "6   3.200844  13.373424\n",
                            "7   3.815254  12.029562\n",
                            "8   4.174084  14.982755\n",
                            "9   5.005190  13.476361\n",
                            "10  5.475081  15.163772\n",
                            "11  6.645804  15.201571\n",
                            "12  6.972575  12.385809\n",
                            "13  7.453701  13.767010\n",
                            "14  8.176706  11.688744\n",
                            "15  8.374575   9.410936\n",
                            "16  8.767002   7.377811\n",
                            "17  9.292670   6.313344\n",
                            "18  9.405114   4.189990\n",
                            "19  9.740585   2.707512\n",
                            "20  9.909918   1.141627"
                        ]
                    },
                    "execution_count": 12,
                    "metadata": {},
                    "output_type": "execute_result"
                }
            ],
            "source": [
                "# Leer el archivo \"dataset1.csv\" como  Pandas dataframe\n",
                "df = pd.read_csv('dataset1.csv')\n",
                "\n",
                "# Eche un vistazo rápido al conjunto de datos\n",
                "\n",
                "df\n"
            ]
        },
        {
            "cell_type": "code",
            "execution_count": 14,
            "metadata": {},
            "outputs": [
                {
                    "data": {
                        "image/png": "[encoded data removed]",
                        "text/plain": [
                            "<Figure size 800x600 with 1 Axes>"
                        ]
                    },
                    "metadata": {},
                    "output_type": "display_data"
                }
            ],
            "source": [
                "## Graficar los datos\n",
                "plt.figure(figsize=(8, 6))\n",
                "plt.scatter(df['x1'], df['y1'], color='blue', label='Datos')\n",
                "plt.title('Gráfico de dispersión de los datos')\n",
                "plt.xlabel('x')\n",
                "plt.ylabel('y')\n",
                "plt.legend()\n",
                "plt.grid(True)\n",
                "plt.show()"
            ]
        },
        {
            "cell_type": "markdown",
            "metadata": {},
            "source": [
                "### ⏸ Según el gráfico anterior, ¿podria indicar el grado optimo del polinomio para una regresion lineal polinomial?"
            ]
        },
        {
            "cell_type": "markdown",
            "metadata": {},
            "source": [
                "Respuesta: `Con una de Grado 2`"
            ]
        },
        {
            "cell_type": "markdown",
            "metadata": {},
            "source": [
                "### 3.2 Obtener las variables de entrada y salida"
            ]
        },
        {
            "cell_type": "code",
            "execution_count": 18,
            "metadata": {},
            "outputs": [],
            "source": [
                "# Asigne los valores de las columnas x e y a la\n",
                "# variables predictoras y de respuesta\n",
                "\n",
                "# Variable de predictora\n",
                "# Estos es lista de listas\n",
                "x=df[['x1']].values\n",
                "# Variable de respuesta\n",
                "# Estos es una lista \n",
                "y=df['y1'].values\n",
                "\n"
            ]
        },
        {
            "cell_type": "code",
            "execution_count": null,
            "metadata": {},
            "outputs": [],
            "source": []
        },
        {
            "attachments": {},
            "cell_type": "markdown",
            "metadata": {},
            "source": [
                "### 3.3 Train-validation split\n",
                "\n",
                "Dividir los datos de entrada en `Train/Validation` sets"
            ]
        },
        {
            "cell_type": "code",
            "execution_count": null,
            "metadata": {
                "collapsed": true
            },
            "outputs": [],
            "source": [
                "# Dividir el conjunto de datos en conjuntos de entrenamiento y validación con un conjunto de entrenamiento del 75 %\n",
                "# Establecer estado_aleatorio=1\n",
                "x_train, x_val, y_train, y_val = train_test_split(x, y, test_size=0.25, random_state=1)\n",
                "# Esto es plantar la semilla"
            ]
        },
        {
            "cell_type": "code",
            "execution_count": null,
            "metadata": {},
            "outputs": [],
            "source": [
                "# graficar los sets de train y validacion\n",
                "\n",
                "\n"
            ]
        },
        {
            "cell_type": "markdown",
            "metadata": {},
            "source": [
                "Cambiar el estado aleatorio y anotar sus observaciones respecto a la eleccion de los  datos en cada set."
            ]
        },
        {
            "cell_type": "markdown",
            "metadata": {},
            "source": []
        },
        {
            "attachments": {},
            "cell_type": "markdown",
            "metadata": {},
            "source": [
                "### 3.4 Cálculo del train & validation error en términos de MSE"
            ]
        },
        {
            "cell_type": "code",
            "execution_count": null,
            "metadata": {},
            "outputs": [],
            "source": [
                "# Completar el siguiente codigo\n",
                "\n",
                "# Seleccionar el grado maximo a iterar\n",
                "maxdeg = 15\n",
                "training_error = []\n",
                "validation_error = []\n",
                "\n",
                "for d in range(maxdeg):\n",
                "    # calculo de los polynomial features\n",
                "    x_poly_train = ...\n",
                "    x_poly_val   = ...\n",
                "    # Inicializar el modelo de regresion sin utilizar el intercept\n",
                "    lreg = ...\n",
                "\n",
                "    # Ajustar el modelo en los datos de entrenamiento\n",
                "    ...\n",
                "    # Utilizar el modelo entrenado para predecir en los datos transformados del train set\n",
                "    y_train_pred = ...\n",
                "    \n",
                "    # Utilizar el modelo entrenado para predecir en los datos transformados del validation set\n",
                "    y_val_pred   = ...\n",
                "\n",
                "    # Calcular el error en base a los datos en y_train_pred y y_val_pred\n",
                "    error_train = ...\n",
                "    error_val   = ...\n",
                "    # adicionar los errores calculados a la lista de training_error y validation_error\n",
                "    training_error.append(...)\n",
                "    validation_error.append(...)\n",
                "\n",
                "\n",
                "\n",
                "    "
            ]
        },
        {
            "attachments": {},
            "cell_type": "markdown",
            "metadata": {},
            "source": [
                "### 3.5 Encontrar el modelo optimo"
            ]
        },
        {
            "cell_type": "code",
            "execution_count": null,
            "metadata": {},
            "outputs": [],
            "source": [
                "###\n"
            ]
        },
        {
            "attachments": {},
            "cell_type": "markdown",
            "metadata": {},
            "source": [
                "### 3.6 Graficar el error vs grado del polinomio"
            ]
        },
        {
            "cell_type": "code",
            "execution_count": null,
            "metadata": {
                "collapsed": true
            },
            "outputs": [
                {
                    "data": {
                        "text/plain": [
                            "Ellipsis"
                        ]
                    },
                    "execution_count": 130,
                    "metadata": {},
                    "output_type": "execute_result"
                }
            ],
            "source": [
                "..."
            ]
        },
        {
            "attachments": {},
            "cell_type": "markdown",
            "metadata": {},
            "source": [
                "⏸  Si ejecutas el ejercicio con un estado aleatorio de 0, ¿notas algún cambio? ¿A qué atribuirías este cambio?\"\"\""
            ]
        },
        {
            "cell_type": "code",
            "execution_count": null,
            "metadata": {},
            "outputs": [],
            "source": [
                "\n",
                "# Submit an answer choice as a string below \n",
                "answer1 = ''\n"
            ]
        }
    ],
    "metadata": {
        "kernelspec": {
            "display_name": "venv",
            "language": "python",
            "name": "python3"
        },
        "language_info": {
            "codemirror_mode": {
                "name": "ipython",
                "version": 3
            },
            "file_extension": ".py",
            "mimetype": "text/x-python",
            "name": "python",
            "nbconvert_exporter": "python",
            "pygments_lexer": "ipython3",
            "version": "3.13.1"
        }
    },
    "nbformat": 4,
    "nbformat_minor": 4
}
