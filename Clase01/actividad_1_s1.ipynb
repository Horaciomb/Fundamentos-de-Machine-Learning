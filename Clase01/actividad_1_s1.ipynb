{
    "cells": [
        {
            "cell_type": "markdown",
            "metadata": {},
            "source": [
                "# <img style=\"float: left; padding-right: 20px; height: 70px\" src=\"https://i.imgur.com/cMzxwTN.jpg\"> Fundamentos de Machine Learning\n",
                "## Sesion 1, Actividad I\n",
                "**Universidad Privada Boliviana**<br/>\n",
                "**Diplomado en Machine Learning y Ciencia de Datos**<br/>\n",
                "\n",
                "\n",
                "\n",
                "<hr>\n"
            ]
        },
        {
            "cell_type": "code",
            "execution_count": 2,
            "metadata": {},
            "outputs": [],
            "source": [
                "# Import necessary libraries\n",
                "\n",
                "import numpy as np\n",
                "import pandas as pd\n",
                "import matplotlib.pyplot as plt\n",
                "from sklearn.metrics import mean_squared_error\n",
                "from sklearn.linear_model import LinearRegression\n",
                "from sklearn.model_selection import train_test_split\n",
                "from sklearn.preprocessing import PolynomialFeatures\n",
                "%matplotlib inline\n"
            ]
        },
        {
            "cell_type": "markdown",
            "metadata": {},
            "source": [
                "## Seleccion de modelos"
            ]
        },
        {
            "cell_type": "markdown",
            "metadata": {},
            "source": [
                "## 1. PolynomialFeatures en Scikit-Learn\n",
                "\n",
                "La función `PolynomialFeatures` de Scikit-Learn se utiliza para generar un conjunto de características polinómicas a partir de un conjunto de características existentes. Para un conjunto de características de entrada $ X = [x_1] $, `PolynomialFeatures` genera un nuevo conjunto de características que incluye todas las combinaciones polinómicas de las características originales hasta un cierto grado especificado.\n",
                "\n",
                "### Representación Matemática\n",
                "\n",
                "Dado un conjunto de características de entrada $ X = [x_1] $, la transformación polinómica de grado $ d$ generará un nuevo conjunto de características $ \\Phi(X) $ de la siguiente manera:\n",
                "\n",
                "$$\n",
                "\\Phi(X) = [1, x_1, x_1^2, \\ldots, x_n^d]\n",
                "$$\n",
                "\n",
                "Donde \\( d $ es el grado de las características polinómicas generadas.\n",
                "\n",
                "### Uso en Scikit-Learn\n",
                "\n",
                "```python\n",
                "from sklearn.preprocessing import PolynomialFeatures\n",
                "\n",
                "# Crear un objeto PolynomialFeatures con un grado específico\n",
                "poly = PolynomialFeatures(degree=d)\n",
                "\n",
                "# Transformar el conjunto de características original X\n",
                "X_poly = poly.fit_transform(X)\n",
                "\n",
                "```\n"
            ]
        },
        {
            "cell_type": "code",
            "execution_count": 115,
            "metadata": {},
            "outputs": [],
            "source": [
                "## Leer los datos \"data_set_1.csv\""
            ]
        },
        {
            "cell_type": "code",
            "execution_count": 116,
            "metadata": {},
            "outputs": [],
            "source": [
                "# graficar los datos "
            ]
        },
        {
            "cell_type": "code",
            "execution_count": 11,
            "metadata": {},
            "outputs": [],
            "source": [
                "# encontrar la transformacion de polinomios para un grado 3\n"
            ]
        },
        {
            "cell_type": "markdown",
            "metadata": {},
            "source": [
                "## 2. Regresion lineal polinomial\n",
                "\n",
                "\n",
                "\n",
                "La regresión lineal polinomial es una técnica de regresión que permite modelar relaciones no lineales entre la variable de entrada $x$ y la variable de salida $y$. En lugar de ajustar una línea recta, la regresión lineal polinomial ajusta un polinomio de grado $d$.\n",
                "\n",
                "### Modelo Matemático\n",
                "\n",
                "El modelo de regresión lineal polinomial de grado $d$ se define como:\n",
                "\n",
                "$$\n",
                "y = w_0 + w_1x + w_2x^2 + \\ldots + w_dx^d + \\varepsilon\n",
                "$$\n",
                "\n",
                "Donde:\n",
                "- $y$ es la variable de salida.\n",
                "- $x$ es la variable de entrada.\n",
                "- $w_0, w_1, \\ldots, w_d$ son los coeficientes del polinomio.\n",
                "- $d$ es el grado del polinomio.\n",
                "- $\\varepsilon$ representa el error aleatorio.\n",
                "\n",
                "### Uso en Scikit-Learn\n",
                "\n",
                "```python\n",
                "from sklearn.preprocessing import PolynomialFeatures\n",
                "from sklearn.linear_model import LinearRegression\n",
                "\n",
                "# Crear características polinómicas de grado d\n",
                "poly = PolynomialFeatures(degree=d)\n",
                "X_poly = poly.fit_transform(X)\n",
                "\n",
                "# Crear modelo de regresión lineal\n",
                "lreg = LinearRegression()\n",
                "\n",
                "# Ajustar el modelo con las características polinómicas y las etiquetas\n",
                "lreg.fit(X_poly, y)\n",
                "\n"
            ]
        },
        {
            "cell_type": "markdown",
            "metadata": {},
            "source": [
                "### 2.1 Modelo de regresion lineal de primer grado"
            ]
        },
        {
            "cell_type": "code",
            "execution_count": 117,
            "metadata": {},
            "outputs": [],
            "source": [
                "## Encontrar los coeficientes de regresion lineal de grado 1\n"
            ]
        },
        {
            "cell_type": "code",
            "execution_count": 119,
            "metadata": {},
            "outputs": [],
            "source": [
                "# Generar los datos que se encuentren igualmente espaciados\n",
                "# desde el punto minimo y el punto maximo de la variable de entrada\n",
                "\n",
                "xin = ...\n",
                "\n",
                "# transformar x_in a polynomial features de grado 1\n",
                "\n",
                "xin_p = ...\n",
                "\n",
                "# En base a los coeficientes encontrados en el modelo de regresion lineal \n",
                "# encontrar la prediccion de la variable de salida\n",
                "\n",
                "y_pred = ...\n"
            ]
        },
        {
            "cell_type": "code",
            "execution_count": null,
            "metadata": {},
            "outputs": [],
            "source": [
                "# Graficar los datos de entrada y la prediccion encontrada. "
            ]
        },
        {
            "cell_type": "code",
            "execution_count": 120,
            "metadata": {},
            "outputs": [],
            "source": [
                "# Encontrar el mean_squared_error de la prediccion"
            ]
        },
        {
            "cell_type": "markdown",
            "metadata": {},
            "source": [
                "#### ⏸ Si tenemos un polinomio grado 2, y luego se realiza el proceso de regresion lineal, se considera este modelo como un modelo de regresion lineal?"
            ]
        },
        {
            "cell_type": "markdown",
            "metadata": {},
            "source": [
                "Anotar aca la respuesta..."
            ]
        },
        {
            "cell_type": "markdown",
            "metadata": {},
            "source": [
                "### 2.2 Modelo de regresion lineal de grado > 1. "
            ]
        },
        {
            "cell_type": "markdown",
            "metadata": {},
            "source": [
                "Repetir el procedimiento en el punto 2.1 para una regresion lineal de grado: $2, 3, 10, 18$\n",
                "\n",
                "Para cada caso indicar en una grafica el error MSE vs el grado del polinomio"
            ]
        },
        {
            "cell_type": "code",
            "execution_count": null,
            "metadata": {},
            "outputs": [],
            "source": [
                "# tu codigo aca"
            ]
        },
        {
            "cell_type": "code",
            "execution_count": null,
            "metadata": {},
            "outputs": [],
            "source": [
                "# Grafica de los resultados\n"
            ]
        },
        {
            "cell_type": "markdown",
            "metadata": {},
            "source": [
                "#### Comentarios y observaciones:\n",
                "En base a los resultados anteriores... `completar esta seccion`"
            ]
        }
    ],
    "metadata": {
        "kernelspec": {
            "display_name": "Python 3.10.4 64-bit",
            "language": "python",
            "name": "python3"
        },
        "language_info": {
            "codemirror_mode": {
                "name": "ipython",
                "version": 3
            },
            "file_extension": ".py",
            "mimetype": "text/x-python",
            "name": "python",
            "nbconvert_exporter": "python",
            "pygments_lexer": "ipython3",
            "version": "3.10.2"
        },
        "vscode": {
            "interpreter": {
                "hash": "f66e3edf856e3e4a3652763ddb6c2ab1c25665e5b9e1fed087bb1a040433f3bb"
            }
        }
    },
    "nbformat": 4,
    "nbformat_minor": 4
}
