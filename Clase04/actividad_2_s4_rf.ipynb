{
    "cells": [
        {
            "cell_type": "markdown",
            "metadata": {},
            "source": [
                "# <img style=\"float: left; padding-right: 20px; height: 70px\" src=\"https://i.imgur.com/cMzxwTN.jpg\"> Fundamentos de Machine Learning\n",
                "## Actividad II, Sesion 2\n",
                "\n",
                "**Universidad Privada Boliviana**<br/>\n",
                "**Experto en Machine Learning y Ciencia de Datos**<br/>\n"
            ]
        },
        {
            "cell_type": "code",
            "execution_count": 5,
            "metadata": {},
            "outputs": [],
            "source": [
                "import pandas as pd\n",
                "import numpy as np\n",
                "from sklearn.model_selection import train_test_split\n",
                "from sklearn.tree import DecisionTreeClassifier\n",
                "from sklearn.ensemble import RandomForestClassifier\n",
                "from sklearn.metrics import classification_report, accuracy_score, confusion_matrix\n",
                "import matplotlib.pyplot as plt\n",
                "import seaborn as sns\n",
                "\n"
            ]
        },
        {
            "cell_type": "markdown",
            "metadata": {},
            "source": [
                "# Agriland Classification\n",
                "\n",
                "Este notebook proporciona un enfoque paso a paso para construir un árbol de clasificación simple y un modelo de Random Forest utilizando el dataset Agriland. Evaluaremos ambos modelos y compararemos sus rendimientos para identificar cuál es más efectivo para predecir el tipo de terreno en función de las coordenadas geográficas.\n"
            ]
        },
        {
            "cell_type": "markdown",
            "metadata": {},
            "source": [
                "### **Cargar el dataset**.\n",
                "\n",
                "\n",
                "Cargar el dataset `agriland.csv` \n",
                "\n",
                "\n",
                "Visualizar las primeras filas para verificar que los datos se han cargado correctamente."
            ]
        },
        {
            "cell_type": "code",
            "execution_count": 6,
            "metadata": {},
            "outputs": [
                {
                    "data": {
                        "text/html": [
                            "<div>\n",
                            "<style scoped>\n",
                            "    .dataframe tbody tr th:only-of-type {\n",
                            "        vertical-align: middle;\n",
                            "    }\n",
                            "\n",
                            "    .dataframe tbody tr th {\n",
                            "        vertical-align: top;\n",
                            "    }\n",
                            "\n",
                            "    .dataframe thead th {\n",
                            "        text-align: right;\n",
                            "    }\n",
                            "</style>\n",
                            "<table border=\"1\" class=\"dataframe\">\n",
                            "  <thead>\n",
                            "    <tr style=\"text-align: right;\">\n",
                            "      <th></th>\n",
                            "      <th>latitude</th>\n",
                            "      <th>longitude</th>\n",
                            "      <th>land_type</th>\n",
                            "    </tr>\n",
                            "  </thead>\n",
                            "  <tbody>\n",
                            "    <tr>\n",
                            "      <th>0</th>\n",
                            "      <td>-0.071860</td>\n",
                            "      <td>-1.297410</td>\n",
                            "      <td>1.0</td>\n",
                            "    </tr>\n",
                            "    <tr>\n",
                            "      <th>1</th>\n",
                            "      <td>-0.179482</td>\n",
                            "      <td>-0.874892</td>\n",
                            "      <td>1.0</td>\n",
                            "    </tr>\n",
                            "    <tr>\n",
                            "      <th>2</th>\n",
                            "      <td>-1.217428</td>\n",
                            "      <td>-1.352105</td>\n",
                            "      <td>0.0</td>\n",
                            "    </tr>\n",
                            "    <tr>\n",
                            "      <th>3</th>\n",
                            "      <td>1.143306</td>\n",
                            "      <td>-0.894172</td>\n",
                            "      <td>1.0</td>\n",
                            "    </tr>\n",
                            "    <tr>\n",
                            "      <th>4</th>\n",
                            "      <td>-3.033199</td>\n",
                            "      <td>0.818646</td>\n",
                            "      <td>0.0</td>\n",
                            "    </tr>\n",
                            "  </tbody>\n",
                            "</table>\n",
                            "</div>"
                        ],
                        "text/plain": [
                            "   latitude  longitude  land_type\n",
                            "0 -0.071860  -1.297410        1.0\n",
                            "1 -0.179482  -0.874892        1.0\n",
                            "2 -1.217428  -1.352105        0.0\n",
                            "3  1.143306  -0.894172        1.0\n",
                            "4 -3.033199   0.818646        0.0"
                        ]
                    },
                    "execution_count": 6,
                    "metadata": {},
                    "output_type": "execute_result"
                }
            ],
            "source": [
                "# Cargar el dataset\n",
                "df = pd.read_csv('agriland.csv')\n",
                "\n",
                "# Mostrar las primeras filas del dataframe\n",
                "df.head()"
            ]
        },
        {
            "cell_type": "markdown",
            "metadata": {},
            "source": [
                "\n",
                "### **Realizar una breve exploración de datos**.\n",
                "\n",
                "Explorar los datos para entender mejor la estructura del dataset, ver la cantidad de datos, el tipo de cada columna y revisar si hay valores nulos. También visualiz la distribución de la variable objetivo `land_type` para entender su balance.\n"
            ]
        },
        {
            "cell_type": "code",
            "execution_count": 7,
            "metadata": {},
            "outputs": [
                {
                    "name": "stdout",
                    "output_type": "stream",
                    "text": [
                        "<class 'pandas.core.frame.DataFrame'>\n",
                        "RangeIndex: 200 entries, 0 to 199\n",
                        "Data columns (total 3 columns):\n",
                        " #   Column     Non-Null Count  Dtype  \n",
                        "---  ------     --------------  -----  \n",
                        " 0   latitude   200 non-null    float64\n",
                        " 1   longitude  200 non-null    float64\n",
                        " 2   land_type  200 non-null    float64\n",
                        "dtypes: float64(3)\n",
                        "memory usage: 4.8 KB\n"
                    ]
                },
                {
                    "data": {
                        "image/png": "[encoded data removed]",
                        "text/plain": [
                            "<Figure size 640x480 with 1 Axes>"
                        ]
                    },
                    "metadata": {},
                    "output_type": "display_data"
                }
            ],
            "source": [
                "# Información del dataset\n",
                "df.info()\n",
                "\n",
                "# Descripción estadística del dataset\n",
                "df.describe()\n",
                "\n",
                "# Visualizar la distribución de la variable objetivo\n",
                "sns.countplot(x='land_type', data=df)\n",
                "plt.title('Distribución de la variable objetivo')\n",
                "plt.show()"
            ]
        },
        {
            "cell_type": "markdown",
            "metadata": {},
            "source": [
                "\n",
                "### **Dividir los datos en conjuntos de entrenamiento y prueba**.\n",
                "\n",
                "Dividir el dataset en dos conjuntos: uno para entrenar los modelos y otro para probar su rendimiento. Utilizaremos un 70% de los datos para entrenamiento y un 30% para prueba."
            ]
        },
        {
            "cell_type": "code",
            "execution_count": 8,
            "metadata": {},
            "outputs": [],
            "source": [
                "# Separar características y variable objetivo\n",
                "X = df[['latitude', 'longitude']]\n",
                "y = df['land_type']\n",
                "\n",
                "# Dividir en conjuntos de entrenamiento y prueba\n",
                "X_train, X_test, y_train, y_test = train_test_split(X, y, test_size=0.3, random_state=42)\n"
            ]
        },
        {
            "cell_type": "markdown",
            "metadata": {},
            "source": [
                "\n",
                "### **Entrenar un árbol de clasificación**.\n",
                "\n",
                "- Entrenar un modelo de árbol de clasificación utilizando las características de entrenamiento \n",
                "- Evaluar su rendimiento sobre el conjunto de prueba. \n",
                "- Analizar el reporte de clasificación y la matriz de confusión para entender el desempeño del modelo."
            ]
        },
        {
            "cell_type": "code",
            "execution_count": 9,
            "metadata": {},
            "outputs": [
                {
                    "name": "stdout",
                    "output_type": "stream",
                    "text": [
                        "Árbol de Clasificación - Reporte de Clasificación:\n",
                        "              precision    recall  f1-score   support\n",
                        "\n",
                        "         0.0       0.47      0.50      0.49        18\n",
                        "         1.0       0.78      0.76      0.77        42\n",
                        "\n",
                        "    accuracy                           0.68        60\n",
                        "   macro avg       0.63      0.63      0.63        60\n",
                        "weighted avg       0.69      0.68      0.69        60\n",
                        "\n",
                        "Matriz de Confusión:\n",
                        "[[ 9  9]\n",
                        " [10 32]]\n"
                    ]
                }
            ],
            "source": [
                "# Crear y entrenar el modelo\n",
                "tree_clf = DecisionTreeClassifier(max_depth=10, random_state=42)\n",
                "tree_clf.fit(X_train, y_train)\n",
                "\n",
                "# Realizar predicciones\n",
                "y_pred_tree = tree_clf.predict(X_test)\n",
                "\n",
                "# Evaluar el modelo\n",
                "print(\"Árbol de Clasificación - Reporte de Clasificación:\")\n",
                "print(classification_report(y_test, y_pred_tree))\n",
                "print(\"Matriz de Confusión:\")\n",
                "print(confusion_matrix(y_test, y_pred_tree))\n"
            ]
        },
        {
            "cell_type": "markdown",
            "metadata": {},
            "source": [
                "\n",
                "### **Entrenar un modelo de Random Forest**.\n",
                "\n",
                "- Entrenar un modelo de Random Forest, que es un conjunto de múltiples árboles de decisión. \n",
                "\n",
                "- Comparar su rendimiento con el del árbol de clasificación para determinar cuál es más efectivo."
            ]
        },
        {
            "cell_type": "code",
            "execution_count": 10,
            "metadata": {},
            "outputs": [
                {
                    "name": "stdout",
                    "output_type": "stream",
                    "text": [
                        "Random Forest - Reporte de Clasificación:\n",
                        "              precision    recall  f1-score   support\n",
                        "\n",
                        "         0.0       0.50      0.50      0.50        18\n",
                        "         1.0       0.79      0.79      0.79        42\n",
                        "\n",
                        "    accuracy                           0.70        60\n",
                        "   macro avg       0.64      0.64      0.64        60\n",
                        "weighted avg       0.70      0.70      0.70        60\n",
                        "\n",
                        "Matriz de Confusión:\n",
                        "[[ 9  9]\n",
                        " [ 9 33]]\n"
                    ]
                }
            ],
            "source": [
                "# Crear y entrenar el modelo. Escoger 5 arboles en el bosque \n",
                "rf_clf = RandomForestClassifier(n_estimators=5, max_depth=50)\n",
                "rf_clf.fit(X_train, y_train)\n",
                "\n",
                "# Realizar predicciones\n",
                "y_pred_rf = rf_clf.predict(X_test)\n",
                "\n",
                "# Evaluar el modelo\n",
                "print(\"Random Forest - Reporte de Clasificación:\")\n",
                "print(classification_report(y_test, y_pred_rf))\n",
                "print(\"Matriz de Confusión:\")\n",
                "print(confusion_matrix(y_test, y_pred_rf))"
            ]
        },
        {
            "cell_type": "markdown",
            "metadata": {},
            "source": [
                "\n",
                "### **Comparar los resultados entre ambos modelos**."
            ]
        },
        {
            "cell_type": "markdown",
            "metadata": {},
            "source": [
                "- Comparar la exactitud de ambos modelos para ver cuál proporciona mejores predicciones. \n",
                "- Utilizar la métrica de exactitud, que representa el porcentaje de predicciones correctas."
            ]
        },
        {
            "cell_type": "code",
            "execution_count": 11,
            "metadata": {},
            "outputs": [
                {
                    "name": "stdout",
                    "output_type": "stream",
                    "text": [
                        "Exactitud del Árbol de Clasificación: 0.68\n",
                        "Exactitud del Random Forest: 0.70\n"
                    ]
                }
            ],
            "source": [
                "# Comparar la exactitud de ambos modelos\n",
                "accuracy_tree = accuracy_score(y_pred_tree, y_test)\n",
                "accuracy_rf = accuracy_score(y_pred_rf, y_test)\n",
                "\n",
                "print(f\"Exactitud del Árbol de Clasificación: {accuracy_tree:.2f}\")\n",
                "print(f\"Exactitud del Random Forest: {accuracy_rf:.2f}\")\n"
            ]
        },
        {
            "cell_type": "markdown",
            "metadata": {},
            "source": [
                "## Exploración del rendimiento de Random Forest\n",
                "\n",
                "Explorar cómo afectan los diferentes parámetros del modelo de Random Forest a su rendimiento. \n",
                "\n",
                "Utilizaremos `GridSearchCV` para encontrar la mejor combinación de parámetros.\n",
                "\n",
                "\n",
                "### Parámetros de Random Forest\n",
                "\n",
                "1.  **`n_estimators`**: Número de árboles en el bosque. Aumentar este número generalmente mejora el rendimiento hasta un cierto punto, pero también incrementa el tiempo de entrenamiento.\n",
                "    \n",
                "2.  **`max_depth`**: Profundidad máxima de los árboles individuales. Controlar la profundidad puede ayudar a evitar el sobreajuste.\n",
                "    \n",
                "3.  **`min_samples_split`**: Número mínimo de muestras requeridas para dividir un nodo. Ajustar este valor puede afectar la complejidad del modelo.\n",
                "    \n",
                "4.  **`min_samples_leaf`**: Número mínimo de muestras que deben estar presentes en un nodo hoja. Puede ayudar a suavizar el modelo.\n",
                "    \n",
                "5.  **`max_features`**: Número de características a considerar al buscar la mejor división. Puede ser un número entero, un flotante (como un porcentaje), `'auto'`, `'sqrt'`, o `'log2'`.\n",
                "    \n",
                "6.  **`bootstrap`**: Si se debe usar muestreo con reemplazo al construir árboles. Puede ser `True` o `False`.\n",
                "    \n",
                "7.  **`random_state`**: Controla la aleatoriedad del estimador. Fijar una semilla puede ayudar a obtener resultados reproducibles.\n",
                "\n",
                "### Ajuste de Hiperparámetros con GridSearchCV\n",
                "\n",
                "Utilizar `GridSearchCV` para explorar combinaciones de hiperparámetros y seleccionar la mejor configuración basada en la validación cruzada."
            ]
        },
        {
            "cell_type": "code",
            "execution_count": 12,
            "metadata": {},
            "outputs": [
                {
                    "ename": "InvalidParameterError",
                    "evalue": "The 'estimator' parameter of GridSearchCV must be an object implementing 'fit'. Got Ellipsis instead.",
                    "output_type": "error",
                    "traceback": [
                        "\u001b[31m---------------------------------------------------------------------------\u001b[39m",
                        "\u001b[31mInvalidParameterError\u001b[39m                     Traceback (most recent call last)",
                        "\u001b[36mCell\u001b[39m\u001b[36m \u001b[39m\u001b[32mIn[12]\u001b[39m\u001b[32m, line 24\u001b[39m\n\u001b[32m     17\u001b[39m grid_search = GridSearchCV(estimator=...,\n\u001b[32m     18\u001b[39m                            param_grid=...,\n\u001b[32m     19\u001b[39m                            cv=\u001b[32m3\u001b[39m,\n\u001b[32m     20\u001b[39m                            n_jobs=-\u001b[32m1\u001b[39m,\n\u001b[32m     21\u001b[39m                            verbose=\u001b[32m2\u001b[39m)\n\u001b[32m     23\u001b[39m \u001b[38;5;66;03m# Realizar la búsqueda de la mejor combinación de parámetros\u001b[39;00m\n\u001b[32m---> \u001b[39m\u001b[32m24\u001b[39m \u001b[43mgrid_search\u001b[49m\u001b[43m.\u001b[49m\u001b[43mfit\u001b[49m\u001b[43m(\u001b[49m\u001b[43m.\u001b[49m\u001b[43m.\u001b[49m\u001b[43m.\u001b[49m\u001b[43m)\u001b[49m\n\u001b[32m     26\u001b[39m \u001b[38;5;66;03m# Mostrar los mejores parámetros encontrados\u001b[39;00m\n\u001b[32m     27\u001b[39m \u001b[38;5;28mprint\u001b[39m(\u001b[33m\"\u001b[39m\u001b[33mMejores parámetros encontrados:\u001b[39m\u001b[33m\"\u001b[39m)\n",
                        "\u001b[36mFile \u001b[39m\u001b[32mc:\\Users\\DATABYTES\\Documents\\Diplomado\\FunadmentosMachineLearning\\Fundamentos-de-Machine-Learning\\venv\\Lib\\site-packages\\sklearn\\base.py:1382\u001b[39m, in \u001b[36m_fit_context.<locals>.decorator.<locals>.wrapper\u001b[39m\u001b[34m(estimator, *args, **kwargs)\u001b[39m\n\u001b[32m   1377\u001b[39m partial_fit_and_fitted = (\n\u001b[32m   1378\u001b[39m     fit_method.\u001b[34m__name__\u001b[39m == \u001b[33m\"\u001b[39m\u001b[33mpartial_fit\u001b[39m\u001b[33m\"\u001b[39m \u001b[38;5;129;01mand\u001b[39;00m _is_fitted(estimator)\n\u001b[32m   1379\u001b[39m )\n\u001b[32m   1381\u001b[39m \u001b[38;5;28;01mif\u001b[39;00m \u001b[38;5;129;01mnot\u001b[39;00m global_skip_validation \u001b[38;5;129;01mand\u001b[39;00m \u001b[38;5;129;01mnot\u001b[39;00m partial_fit_and_fitted:\n\u001b[32m-> \u001b[39m\u001b[32m1382\u001b[39m     \u001b[43mestimator\u001b[49m\u001b[43m.\u001b[49m\u001b[43m_validate_params\u001b[49m\u001b[43m(\u001b[49m\u001b[43m)\u001b[49m\n\u001b[32m   1384\u001b[39m \u001b[38;5;28;01mwith\u001b[39;00m config_context(\n\u001b[32m   1385\u001b[39m     skip_parameter_validation=(\n\u001b[32m   1386\u001b[39m         prefer_skip_nested_validation \u001b[38;5;129;01mor\u001b[39;00m global_skip_validation\n\u001b[32m   1387\u001b[39m     )\n\u001b[32m   1388\u001b[39m ):\n\u001b[32m   1389\u001b[39m     \u001b[38;5;28;01mreturn\u001b[39;00m fit_method(estimator, *args, **kwargs)\n",
                        "\u001b[36mFile \u001b[39m\u001b[32mc:\\Users\\DATABYTES\\Documents\\Diplomado\\FunadmentosMachineLearning\\Fundamentos-de-Machine-Learning\\venv\\Lib\\site-packages\\sklearn\\base.py:436\u001b[39m, in \u001b[36mBaseEstimator._validate_params\u001b[39m\u001b[34m(self)\u001b[39m\n\u001b[32m    428\u001b[39m \u001b[38;5;28;01mdef\u001b[39;00m\u001b[38;5;250m \u001b[39m\u001b[34m_validate_params\u001b[39m(\u001b[38;5;28mself\u001b[39m):\n\u001b[32m    429\u001b[39m \u001b[38;5;250m    \u001b[39m\u001b[33;03m\"\"\"Validate types and values of constructor parameters\u001b[39;00m\n\u001b[32m    430\u001b[39m \n\u001b[32m    431\u001b[39m \u001b[33;03m    The expected type and values must be defined in the `_parameter_constraints`\u001b[39;00m\n\u001b[32m   (...)\u001b[39m\u001b[32m    434\u001b[39m \u001b[33;03m    accepted constraints.\u001b[39;00m\n\u001b[32m    435\u001b[39m \u001b[33;03m    \"\"\"\u001b[39;00m\n\u001b[32m--> \u001b[39m\u001b[32m436\u001b[39m     \u001b[43mvalidate_parameter_constraints\u001b[49m\u001b[43m(\u001b[49m\n\u001b[32m    437\u001b[39m \u001b[43m        \u001b[49m\u001b[38;5;28;43mself\u001b[39;49m\u001b[43m.\u001b[49m\u001b[43m_parameter_constraints\u001b[49m\u001b[43m,\u001b[49m\n\u001b[32m    438\u001b[39m \u001b[43m        \u001b[49m\u001b[38;5;28;43mself\u001b[39;49m\u001b[43m.\u001b[49m\u001b[43mget_params\u001b[49m\u001b[43m(\u001b[49m\u001b[43mdeep\u001b[49m\u001b[43m=\u001b[49m\u001b[38;5;28;43;01mFalse\u001b[39;49;00m\u001b[43m)\u001b[49m\u001b[43m,\u001b[49m\n\u001b[32m    439\u001b[39m \u001b[43m        \u001b[49m\u001b[43mcaller_name\u001b[49m\u001b[43m=\u001b[49m\u001b[38;5;28;43mself\u001b[39;49m\u001b[43m.\u001b[49m\u001b[34;43m__class__\u001b[39;49m\u001b[43m.\u001b[49m\u001b[34;43m__name__\u001b[39;49m\u001b[43m,\u001b[49m\n\u001b[32m    440\u001b[39m \u001b[43m    \u001b[49m\u001b[43m)\u001b[49m\n",
                        "\u001b[36mFile \u001b[39m\u001b[32mc:\\Users\\DATABYTES\\Documents\\Diplomado\\FunadmentosMachineLearning\\Fundamentos-de-Machine-Learning\\venv\\Lib\\site-packages\\sklearn\\utils\\_param_validation.py:98\u001b[39m, in \u001b[36mvalidate_parameter_constraints\u001b[39m\u001b[34m(parameter_constraints, params, caller_name)\u001b[39m\n\u001b[32m     92\u001b[39m \u001b[38;5;28;01melse\u001b[39;00m:\n\u001b[32m     93\u001b[39m     constraints_str = (\n\u001b[32m     94\u001b[39m         \u001b[33mf\u001b[39m\u001b[33m\"\u001b[39m\u001b[38;5;132;01m{\u001b[39;00m\u001b[33m'\u001b[39m\u001b[33m, \u001b[39m\u001b[33m'\u001b[39m.join([\u001b[38;5;28mstr\u001b[39m(c)\u001b[38;5;250m \u001b[39m\u001b[38;5;28;01mfor\u001b[39;00m\u001b[38;5;250m \u001b[39mc\u001b[38;5;250m \u001b[39m\u001b[38;5;129;01min\u001b[39;00m\u001b[38;5;250m \u001b[39mconstraints[:-\u001b[32m1\u001b[39m]])\u001b[38;5;132;01m}\u001b[39;00m\u001b[33m or\u001b[39m\u001b[33m\"\u001b[39m\n\u001b[32m     95\u001b[39m         \u001b[33mf\u001b[39m\u001b[33m\"\u001b[39m\u001b[33m \u001b[39m\u001b[38;5;132;01m{\u001b[39;00mconstraints[-\u001b[32m1\u001b[39m]\u001b[38;5;132;01m}\u001b[39;00m\u001b[33m\"\u001b[39m\n\u001b[32m     96\u001b[39m     )\n\u001b[32m---> \u001b[39m\u001b[32m98\u001b[39m \u001b[38;5;28;01mraise\u001b[39;00m InvalidParameterError(\n\u001b[32m     99\u001b[39m     \u001b[33mf\u001b[39m\u001b[33m\"\u001b[39m\u001b[33mThe \u001b[39m\u001b[38;5;132;01m{\u001b[39;00mparam_name\u001b[38;5;132;01m!r}\u001b[39;00m\u001b[33m parameter of \u001b[39m\u001b[38;5;132;01m{\u001b[39;00mcaller_name\u001b[38;5;132;01m}\u001b[39;00m\u001b[33m must be\u001b[39m\u001b[33m\"\u001b[39m\n\u001b[32m    100\u001b[39m     \u001b[33mf\u001b[39m\u001b[33m\"\u001b[39m\u001b[33m \u001b[39m\u001b[38;5;132;01m{\u001b[39;00mconstraints_str\u001b[38;5;132;01m}\u001b[39;00m\u001b[33m. Got \u001b[39m\u001b[38;5;132;01m{\u001b[39;00mparam_val\u001b[38;5;132;01m!r}\u001b[39;00m\u001b[33m instead.\u001b[39m\u001b[33m\"\u001b[39m\n\u001b[32m    101\u001b[39m )\n",
                        "\u001b[31mInvalidParameterError\u001b[39m: The 'estimator' parameter of GridSearchCV must be an object implementing 'fit'. Got Ellipsis instead."
                    ]
                }
            ],
            "source": [
                "from sklearn.model_selection import GridSearchCV\n",
                "# Definir los parámetros a explorar\n",
                "param_grid = {\n",
                "    # Elegir 4 valores de arboles en el bosque\n",
                "    'n_estimators': [...],\n",
                "    # Elegir 3 valores de profundidad maxima en cada arbol \n",
                "    'max_depth': [ ...],\n",
                "    # Elegir 3 valores que indican un criterio de parada como el minimo numero de muestras requeridas para dividir un nodo\n",
                "    'min_samples_split': [],\n",
                "    # Elegir 3 valores que indican un criterio de parada como el minimo numero de muestras que deben estar presentes en un nodo hoja.\n",
                "    'min_samples_leaf': [1, 2],\n",
                "    # Elegir criterios disponibles de características a considerar al buscar la mejor división.\n",
                "    'max_features': ['sqrt', 'log2'],\n",
                "}\n",
                "\n",
                "# Configurar el GridSearchCV\n",
                "grid_search = GridSearchCV(estimator=...,\n",
                "                           param_grid=...,\n",
                "                           cv=3,\n",
                "                           n_jobs=-1,\n",
                "                           verbose=2)\n",
                "\n",
                "# Realizar la búsqueda de la mejor combinación de parámetros\n",
                "grid_search.fit(...)\n",
                "\n",
                "# Mostrar los mejores parámetros encontrados\n",
                "print(\"Mejores parámetros encontrados:\")\n",
                "print(...)"
            ]
        },
        {
            "cell_type": "code",
            "execution_count": null,
            "metadata": {},
            "outputs": [],
            "source": [
                "# Obtener el mejor modelo\n",
                "best_rf = RandomForestClassifier(...)\n",
                "\n",
                "# Realizar predicciones con el mejor modelo\n",
                "y_pred_best_rf = best_rf.predict(...)\n",
                "\n",
                "# Evaluar el mejor modelo\n",
                "print(\"Random Forest Optimizado - Reporte de Clasificación:\")\n",
                "print(classification_report(..., ...))\n",
                "print(\"Matriz de Confusión:\")\n",
                "print(confusion_matrix(..., ...))\n",
                "\n",
                "# Comparar la exactitud del modelo optimizado con el inicial\n",
                "accuracy_best_rf = accuracy_score(..., ...)\n",
                "print(f\"Exactitud del Random Forest Optimizado: {accuracy_best_rf:.2f}\")"
            ]
        },
        {
            "cell_type": "code",
            "execution_count": null,
            "metadata": {},
            "outputs": [],
            "source": []
        }
    ],
    "metadata": {
        "kernelspec": {
            "display_name": "venv",
            "language": "python",
            "name": "python3"
        },
        "language_info": {
            "codemirror_mode": {
                "name": "ipython",
                "version": 3
            },
            "file_extension": ".py",
            "mimetype": "text/x-python",
            "name": "python",
            "nbconvert_exporter": "python",
            "pygments_lexer": "ipython3",
            "version": "3.13.2"
        }
    },
    "nbformat": 4,
    "nbformat_minor": 4
}
